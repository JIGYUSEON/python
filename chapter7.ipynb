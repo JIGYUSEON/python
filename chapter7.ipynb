{
 "cells": [
  {
   "cell_type": "markdown",
   "metadata": {},
   "source": [
    "Chapter 7 함수"
   ]
  },
  {
   "cell_type": "markdown",
   "metadata": {},
   "source": [
    "함수 = 코드의 집합\n",
    "\n",
    "관련 용어\n",
    "\n",
    "* 매개변수 : 함수의 입력값, 람수 호출 시 괄호 내부에 넣는 여러가지 자료\n",
    "\n",
    "* 리턴값 : 함수의 출력값, 함수를 호출하여 최종적으로 나오는 결과"
   ]
  }
 ],
 "metadata": {
  "language_info": {
   "name": "python"
  }
 },
 "nbformat": 4,
 "nbformat_minor": 2
}
