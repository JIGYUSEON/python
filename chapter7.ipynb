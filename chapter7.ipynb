{
 "cells": [
  {
   "cell_type": "markdown",
   "metadata": {},
   "source": [
    "Chapter 7 함수"
   ]
  },
  {
   "cell_type": "markdown",
   "metadata": {},
   "source": [
    "함수 = 코드의 집합\n",
    "\n",
    "관련 용어\n",
    "\n",
    "* 매개변수 : 함수의 입력값, 람수 호출 시 괄호 내부에 넣는 여러가지 자료\n",
    "\n",
    "* 리턴값 : 함수의 출력값, 함수를 호출하여 최종적으로 나오는 결과"
   ]
  },
  {
   "cell_type": "markdown",
   "metadata": {},
   "source": [
    "def 함수이름(매개변수1,매개변수2):\n",
    "명령어"
   ]
  },
  {
   "cell_type": "code",
   "execution_count": 5,
   "metadata": {},
   "outputs": [
    {
     "name": "stdout",
     "output_type": "stream",
     "text": [
      "안녕하세요\n",
      "안녕하세요\n",
      "안녕하세요\n",
      "안녕하세요\n",
      "안녕하세요\n"
     ]
    }
   ],
   "source": [
    "def print_n_times(value, n):\n",
    "    for i in range(n):\n",
    "        print(value)\n",
    "\n",
    "print_n_times(\"안녕하세요\", 5)"
   ]
  },
  {
   "cell_type": "code",
   "execution_count": 47,
   "metadata": {},
   "outputs": [
    {
     "name": "stdout",
     "output_type": "stream",
     "text": [
      "6\n"
     ]
    }
   ],
   "source": [
    "def addition(a,b):\n",
    "    return a + b\n",
    "\n",
    "# def 함수명(매개변수1, 매개변수2):\n",
    "def function_k(a, b):\n",
    "# 앞에 공백 4칸 또는 탭 사용해서 들여쓰기 (Indent) python 문법\n",
    "# VSCode를 사용하면 자동적으로 4칸이 띄어짐, 탭 대신에 공백 4칸이 좋음\n",
    "    sum = addition(a,b)\n",
    "    mul = sum * 2\n",
    "\n",
    "    return mul # return 변수 ->변수값이 최종 리턴\n",
    "\n",
    "# 함수 호출\n",
    "# 함수명(매개변수값 입력)\n",
    "print(function_k(1,2))"
   ]
  },
  {
   "cell_type": "markdown",
   "metadata": {},
   "source": [
    "기본 매개변수 : 매개변수 값을 입력을 하지 않았을 경우 기본으로 정해진 값"
   ]
  },
  {
   "cell_type": "code",
   "execution_count": null,
   "metadata": {},
   "outputs": [
    {
     "name": "stdout",
     "output_type": "stream",
     "text": [
      "24\n",
      "14\n"
     ]
    }
   ],
   "source": [
    "# 기본 매개변수 정하는 법, 매개변수에 = 값으로 하면\n",
    "# 기본 매개변수 설정이 가능\n",
    "#                 *****\n",
    "def function_k(a, b=10):\n",
    "    sum = a + b\n",
    "    mul = sum * 2\n",
    "    \n",
    "    return mul\n",
    "\n",
    "print(function_k(2))\n",
    "print(function_k(2,5))"
   ]
  },
  {
   "cell_type": "markdown",
   "metadata": {},
   "source": [
    "가변 매개변수 : 매개변수를 원하는 만큼 받을 수 있음"
   ]
  },
  {
   "cell_type": "code",
   "execution_count": 1,
   "metadata": {},
   "outputs": [
    {
     "name": "stdout",
     "output_type": "stream",
     "text": [
      "안녕하세요\n",
      "즐거운\n",
      "파이썬 프로그래밍\n",
      "\n",
      "안녕하세요\n",
      "즐거운\n",
      "파이썬 프로그래밍\n",
      "\n",
      "안녕하세요\n",
      "즐거운\n",
      "파이썬 프로그래밍\n",
      "\n"
     ]
    }
   ],
   "source": [
    "def print_n_times(n, *values):\n",
    "    #n번 반복합니다\n",
    "    for i in range(n):\n",
    "        #values는 리스트처럼 활용합니다.\n",
    "        for value in values:\n",
    "            print(value)\n",
    "        #단순한 줄바꿈\n",
    "        print()\n",
    "\n",
    "#함수를 호출합니다\n",
    "print_n_times(3, \"안녕하세요\", \"즐거운\",\"파이썬 프로그래밍\")"
   ]
  },
  {
   "cell_type": "code",
   "execution_count": null,
   "metadata": {},
   "outputs": [
    {
     "name": "stdout",
     "output_type": "stream",
     "text": [
      "width: 10.0\n",
      "넓이 : 200.0\n",
      "둘레 : 60.0\n"
     ]
    }
   ],
   "source": [
    "#문제: 직사각형 둘레, 넓이 구하기\n",
    "#1. 기본 함수 형태는 갖추기, 함수명, 매개변수 정도 작성\n",
    "#2. 출력값 먼저 생각 후, 출력값을 계산\n",
    "def calculate_area_and_perimeter(width, height):\n",
    "    area = width * height\n",
    "    perimeter = (width + height) *2\n",
    "    return area, perimeter\n",
    "\n",
    "width = float(input(\"직사각형의 가로 길이를 입력하세요: \"))\n",
    "height = float(input(\"직사각형의 세로 길이를 입력하세요: \"))\n",
    "\n",
    "area, perimeter = calculate_area_and_perimeter(width, height)\n",
    "\n",
    "print(f\"넓이 : {area}\")\n",
    "print(f\"둘레 : {perimeter}\")"
   ]
  },
  {
   "cell_type": "code",
   "execution_count": 22,
   "metadata": {},
   "outputs": [
    {
     "name": "stdout",
     "output_type": "stream",
     "text": [
      "width: 100\n",
      "20000 600\n",
      "width: 100\n",
      "20000 600\n"
     ]
    }
   ],
   "source": [
    "# 함수를 호출할 때 키워드를 사용하는 방ㅇ식\n",
    "\n",
    "#일반적 방식, 매개변수를 직접 넣는 방식\n",
    "width1 = 100\n",
    "height1 = 200\n",
    "area, perimeter = calculate_area_and_perimeter(width1, height1)\n",
    "print(area, perimeter)\n",
    "\n",
    "#키워드 매개 변수\n",
    "area, perimeter = calculate_area_and_perimeter(width = width1, height = height1)\n",
    "print(area, perimeter)\n",
    "\n",
    "#키워드 매개변수 장점\n",
    "#1. 가독성: 매개변수를 명시하기 때문에 코드의도가 명확해집니다.\n",
    "#2. 순서와 상관이 없음: 매개변수 순서에 관계없이 함수값을 전달 할 수 있습니다."
   ]
  },
  {
   "cell_type": "code",
   "execution_count": 24,
   "metadata": {},
   "outputs": [
    {
     "name": "stdout",
     "output_type": "stream",
     "text": [
      "A 위치입니다.\n"
     ]
    }
   ],
   "source": [
    "def return_test():\n",
    "    print(\"A 위치입니다.\")\n",
    "    return\n",
    "    print(\"B 위치입니다.\")\n",
    "\n",
    "# 함수를 호출합니다.\n",
    "return_test()"
   ]
  },
  {
   "cell_type": "code",
   "execution_count": 35,
   "metadata": {},
   "outputs": [
    {
     "name": "stdout",
     "output_type": "stream",
     "text": [
      "36\n"
     ]
    }
   ],
   "source": [
    "def square(number):\n",
    "    return number **2\n",
    "\n",
    "print(square(6))"
   ]
  },
  {
   "cell_type": "markdown",
   "metadata": {},
   "source": [
    "범위 내부의 정수"
   ]
  },
  {
   "cell_type": "code",
   "execution_count": 37,
   "metadata": {},
   "outputs": [
    {
     "name": "stdout",
     "output_type": "stream",
     "text": [
      "0 to 100: 5050\n",
      "0 to 1000: 500500\n"
     ]
    }
   ],
   "source": [
    "def sum_all(start,end):\n",
    "    #변수를 선언합니다.\n",
    "    output = 0\n",
    "    #반복문을 돌려 숫자를 더합니다.\n",
    "    for i in range(start,end + 1):\n",
    "        output += i\n",
    "    return output\n",
    "\n",
    "print(\"0 to 100:\", sum_all(0,100))\n",
    "print(\"0 to 1000:\", sum_all(0,1000))"
   ]
  },
  {
   "cell_type": "markdown",
   "metadata": {},
   "source": [
    "재귀함수"
   ]
  },
  {
   "cell_type": "code",
   "execution_count": 40,
   "metadata": {},
   "outputs": [
    {
     "name": "stdout",
     "output_type": "stream",
     "text": [
      "0!: 1\n",
      "1!: 1\n",
      "2!: 2\n",
      "3!: 6\n",
      "4!: 24\n",
      "5!: 120\n"
     ]
    }
   ],
   "source": [
    "#반복문으로 팩토리얼 구하기\n",
    "\n",
    "#함수를 선언합니다.\n",
    "def factorial(n):\n",
    "    #변수를 선언합니다.\n",
    "    output = 1\n",
    "    #반복문을 돌려 숫자를 더합니다.\n",
    "    for i in range(1, n + 1):\n",
    "        output *= i #output = output * i\n",
    "    # for loop 단계별\n",
    "    # range(1,n+1): 1에서 n까지 1씩 증가\n",
    "    # range(start,end,step): start에서 step만큼 증가하여 end -1까지 증가\n",
    "    # i = 1, (연산전) output = 1 -> (연산후 output) = 1 * 1 = 1\n",
    "    # i = 2, (연산전) output = 1 -> (연산후 output) = 1 * 2 = 2\n",
    "    # i = 3, (연산전) output = 1 * 2 -> (연산후 output) = 1 * 2 * 3\n",
    "    # i = 4, (연산전) output = 1 * 2 * 3 -> (연산후 output) = 1 * 2 * 3 * 4\n",
    "    # ..........\n",
    "    # i = n-1 (연산전) output = 1* 2* 3* ...*(n-2) -> (연산후) output 1*2*3*4*...*(n-1)\n",
    "    # i = n (연산전) output = 1* 2* 3* ...*(n-2) -> (연산후) output 1*2*3*4*...*(n-1)*n\n",
    "    #리턴합니다.\n",
    "    return output\n",
    "\n",
    "#함수를 호출합니다.\n",
    "for i in range(6):\n",
    "    print(f\"{i}!: {factorial(i)}\")"
   ]
  },
  {
   "cell_type": "code",
   "execution_count": null,
   "metadata": {},
   "outputs": [],
   "source": [
    "# 재귀함수로 팩토리얼 구하기\n",
    "\n",
    "def factorial(n):\n",
    "    #n이 0이라면 1을 리턴\n",
    "    if n == 0:\n",
    "        return 1\n",
    "    # n이 0이 아니라면 n * factorial(n-1)!을 리턴\n",
    "    else:\n",
    "        return n * factorial(n-1) #return부분에 선언된 함수가 호출됨\n",
    "        #본인 스스로가 다시 호출됨: 재귀함수\n",
    "\n",
    "# n=4\n",
    "# 1. factorial(4)가 호출이 됩니다.\n",
    "# 2. 4 * factorial (4-1) ->4* factorial(3)\n",
    "# 3. factorial(3)이 호출됩니다.\n",
    "# 4. 3*factorial(3-1) 리턴 ->3* factorial(2)\n",
    "# 5. factorial(2) 호출\n",
    "# 6. 2*factorial(2-1)\n",
    "# 7. factorial(1) 호출\n",
    "# 8. 1*factorial(0) 호출 -> 1 * 1\n",
    "# 9. factorial(0) = 1 리턴\n",
    "\n",
    "for i in range(1,6):\n",
    "    print(f\"{i}!: {factorial(i)}\")"
   ]
  },
  {
   "cell_type": "code",
   "execution_count": 44,
   "metadata": {},
   "outputs": [
    {
     "name": "stdout",
     "output_type": "stream",
     "text": [
      "1!: 1\n",
      "2!: 2\n",
      "3!: 6\n",
      "4!: 24\n",
      "5!: 120\n"
     ]
    }
   ],
   "source": [
    "for i in range(1,6):\n",
    "    print(f\"{i}!: {factorial(i)}\")"
   ]
  },
  {
   "cell_type": "markdown",
   "metadata": {},
   "source": [
    "파이썬의 독특한 자료형\n",
    "\n",
    "1. 리스트: 가장 많이 사용되는 자료형, 다른 언어에서는 배열\n",
    "\n",
    "- 특징: 가변(mutable) 자료형"
   ]
  },
  {
   "cell_type": "code",
   "execution_count": 45,
   "metadata": {},
   "outputs": [
    {
     "name": "stdout",
     "output_type": "stream",
     "text": [
      "[1, 3.5, 'Hello', [1, 2, 3]]\n"
     ]
    }
   ],
   "source": [
    "# 리스트 예시\n",
    "my_list = [1, 3.5, \"Hello\", [1, 2, 3]]\n",
    "print(my_list)"
   ]
  },
  {
   "cell_type": "markdown",
   "metadata": {},
   "source": [
    "2. 튜플 (Tuple): 리스트와 비슷하지만, 불변(immutable) 자료형, 한번 생성된 튜플은 그내용을 변경할 수가 없음\n",
    "\n",
    "- 특징: 가변성이 없기 때문에 튜플은 좀더 빠르고 함수의 변환값이가 딕셔너리의 키값으로 사용함\n",
    "- 형태: ()에서, 로 구분"
   ]
  },
  {
   "cell_type": "code",
   "execution_count": 46,
   "metadata": {},
   "outputs": [
    {
     "name": "stdout",
     "output_type": "stream",
     "text": [
      "(1, 2, 3, 'apple')\n"
     ]
    }
   ],
   "source": [
    "my_tuple = (1, 2, 3, \"apple\")\n",
    "print(my_tuple)"
   ]
  },
  {
   "cell_type": "markdown",
   "metadata": {},
   "source": [
    "3. 셋(Set): 말 그대로 집합 자료형\n",
    "\n",
    "- 특징: 순서가 없기 때문에 인덱싱이나 슬라이싱을 사용할 수가 없습니다.\n",
    "\n",
    "- 특징2: 중복된 값을 자동 제거하고, 집합 연산(합집합, 교짒합, 차집합 등)을 지원합니다.\n",
    "\n",
    "- 형태: ()에 ,로 요소가 나열 되어 있음"
   ]
  },
  {
   "cell_type": "code",
   "execution_count": 48,
   "metadata": {},
   "outputs": [
    {
     "name": "stdout",
     "output_type": "stream",
     "text": [
      "{1, 2, 3, 5, 6}\n"
     ]
    }
   ],
   "source": [
    "my_set = {1, 2, 3, 4, 5}\n",
    "my_set.add(6)\n",
    "my_set.remove(4)\n",
    "print(my_set)"
   ]
  },
  {
   "cell_type": "markdown",
   "metadata": {},
   "source": [
    "4. 딕셔너리(Dictionary) : 키(key), 값(value) 쌍으로 묶어서 데이터를 저장하는 자료형 다른 언어에서는 맵(Map) 또는 해시맵(Hashmap)으로 알려져 있다.\n",
    "\n",
    "- 특징: key - value이 쌍으로 되어있음\n",
    "\n",
    "- 형태: {\"key\":\"value\", \"key2\":\"value2\"}"
   ]
  },
  {
   "cell_type": "code",
   "execution_count": 50,
   "metadata": {},
   "outputs": [
    {
     "name": "stdout",
     "output_type": "stream",
     "text": [
      "Alice\n"
     ]
    }
   ],
   "source": [
    "my_dict = {\"name\":\"Alice\",\"age\":25,\"city\":\"New York\"}\n",
    "print(my_dict[\"name\"])"
   ]
  }
 ],
 "metadata": {
  "kernelspec": {
   "display_name": "Python 3",
   "language": "python",
   "name": "python3"
  },
  "language_info": {
   "codemirror_mode": {
    "name": "ipython",
    "version": 3
   },
   "file_extension": ".py",
   "mimetype": "text/x-python",
   "name": "python",
   "nbconvert_exporter": "python",
   "pygments_lexer": "ipython3",
   "version": "3.12.8"
  }
 },
 "nbformat": 4,
 "nbformat_minor": 2
}
