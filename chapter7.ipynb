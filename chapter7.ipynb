{
 "cells": [
  {
   "cell_type": "markdown",
   "metadata": {},
   "source": [
    "Chapter 7 함수"
   ]
  },
  {
   "cell_type": "markdown",
   "metadata": {},
   "source": [
    "함수 = 코드의 집합\n",
    "\n",
    "관련 용어\n",
    "\n",
    "* 매개변수 : 함수의 입력값, 람수 호출 시 괄호 내부에 넣는 여러가지 자료\n",
    "\n",
    "* 리턴값 : 함수의 출력값, 함수를 호출하여 최종적으로 나오는 결과"
   ]
  },
  {
   "cell_type": "markdown",
   "metadata": {},
   "source": [
    "def 함수이름(매개변수1,매개변수2):\n",
    "명령어"
   ]
  },
  {
   "cell_type": "code",
   "execution_count": 5,
   "metadata": {},
   "outputs": [
    {
     "name": "stdout",
     "output_type": "stream",
     "text": [
      "안녕하세요\n",
      "안녕하세요\n",
      "안녕하세요\n",
      "안녕하세요\n",
      "안녕하세요\n"
     ]
    }
   ],
   "source": [
    "def print_n_times(value, n):\n",
    "    for i in range(n):\n",
    "        print(value)\n",
    "\n",
    "print_n_times(\"안녕하세요\", 5)"
   ]
  },
  {
   "cell_type": "code",
   "execution_count": 47,
   "metadata": {},
   "outputs": [
    {
     "name": "stdout",
     "output_type": "stream",
     "text": [
      "6\n"
     ]
    }
   ],
   "source": [
    "def addition(a,b):\n",
    "    return a + b\n",
    "\n",
    "# def 함수명(매개변수1, 매개변수2):\n",
    "def function_k(a, b):\n",
    "# 앞에 공백 4칸 또는 탭 사용해서 들여쓰기 (Indent) python 문법\n",
    "# VSCode를 사용하면 자동적으로 4칸이 띄어짐, 탭 대신에 공백 4칸이 좋음\n",
    "    sum = addition(a,b)\n",
    "    mul = sum * 2\n",
    "\n",
    "    return mul # return 변수 ->변수값이 최종 리턴\n",
    "\n",
    "# 함수 호출\n",
    "# 함수명(매개변수값 입력)\n",
    "print(function_k(1,2))"
   ]
  },
  {
   "cell_type": "markdown",
   "metadata": {},
   "source": [
    "기본 매개변수 : 매개변수 값을 입력을 하지 않았을 경우 기본으로 정해진 값"
   ]
  },
  {
   "cell_type": "code",
   "execution_count": 52,
   "metadata": {},
   "outputs": [
    {
     "name": "stdout",
     "output_type": "stream",
     "text": [
      "24\n",
      "14\n"
     ]
    }
   ],
   "source": [
    "# 기본 매개변수 정하는 법, 매개변수에 = 값으로 하면\n",
    "# 기본 매개변수 설정이 가능\n",
    "#                 *****\n",
    "def function_k(a, b=10):\n",
    "    sum = a + b\n",
    "    mul = sum * 2\n",
    "    \n",
    "    return mul\n",
    "\n",
    "print(function_k(2))\n",
    "print(function_k(2,5))"
   ]
  },
  {
   "cell_type": "markdown",
   "metadata": {},
   "source": [
    "가변 매개변수 : 매개변수를 원하는 만큼 받을 수 있음"
   ]
  },
  {
   "cell_type": "code",
   "execution_count": 55,
   "metadata": {},
   "outputs": [
    {
     "name": "stdout",
     "output_type": "stream",
     "text": [
      "안녕하세요\n",
      "즐거운\n",
      "파이썬 프로그래밍\n",
      "\n",
      "안녕하세요\n",
      "즐거운\n",
      "파이썬 프로그래밍\n",
      "\n",
      "안녕하세요\n",
      "즐거운\n",
      "파이썬 프로그래밍\n",
      "\n"
     ]
    }
   ],
   "source": [
    "def print_n_times(n, *values):\n",
    "    #n번 반복합니다\n",
    "    for i in range(n):\n",
    "        #values는 리스트처럼 활용합니다.\n",
    "        for value in values:\n",
    "            print(value)\n",
    "        #단순한 줄바꿈\n",
    "        print()\n",
    "\n",
    "#함수를 호출합니다\n",
    "print_n_times(3, \"안녕하세요\", \"즐거운\",\"파이썬 프로그래밍\")"
   ]
  }
 ],
 "metadata": {
  "kernelspec": {
   "display_name": "Python 3",
   "language": "python",
   "name": "python3"
  },
  "language_info": {
   "codemirror_mode": {
    "name": "ipython",
    "version": 3
   },
   "file_extension": ".py",
   "mimetype": "text/x-python",
   "name": "python",
   "nbconvert_exporter": "python",
   "pygments_lexer": "ipython3",
   "version": "3.12.8"
  }
 },
 "nbformat": 4,
 "nbformat_minor": 2
}
