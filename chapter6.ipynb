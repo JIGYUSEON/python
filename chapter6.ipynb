{
 "cells": [
  {
   "cell_type": "code",
   "execution_count": 1,
   "metadata": {},
   "outputs": [],
   "source": [
    "dict_a = {\n",
    "    \"name\": \"어밴저스 엔드게임\",\n",
    "    \"type\": \"히어로 무비\"\n",
    "}"
   ]
  },
  {
   "cell_type": "code",
   "execution_count": 2,
   "metadata": {},
   "outputs": [
    {
     "data": {
      "text/plain": [
       "'어밴저스 엔드게임'"
      ]
     },
     "execution_count": 2,
     "metadata": {},
     "output_type": "execute_result"
    }
   ],
   "source": [
    "dict_a[\"name\"]"
   ]
  },
  {
   "cell_type": "code",
   "execution_count": 4,
   "metadata": {},
   "outputs": [
    {
     "data": {
      "text/plain": [
       "'어밴저스'"
      ]
     },
     "execution_count": 4,
     "metadata": {},
     "output_type": "execute_result"
    }
   ],
   "source": [
    "dict_a[\"name\"] = \"어밴저스\"\n",
    "dict_a[\"name\"]"
   ]
  },
  {
   "cell_type": "code",
   "execution_count": 5,
   "metadata": {},
   "outputs": [
    {
     "data": {
      "text/plain": [
       "{'name': '어밴저스', 'type': '히어로 무비', 'date': '20241204'}"
      ]
     },
     "execution_count": 5,
     "metadata": {},
     "output_type": "execute_result"
    }
   ],
   "source": [
    "dict_a[\"date\"] = \"20241204\"\n",
    "dict_a"
   ]
  },
  {
   "cell_type": "code",
   "execution_count": 33,
   "metadata": {},
   "outputs": [
    {
     "name": "stdout",
     "output_type": "stream",
     "text": [
      "name: 7D 건조 망고\n",
      "type: 당절임\n",
      "ingredient: ['망고', '설탕', '메타중아황산나트륨', '치자황색소']\n",
      "origin: 필리핀\n",
      "\n"
     ]
    }
   ],
   "source": [
    "dictionary = {\n",
    "    \"name\": \"7D 건조 망고\",\n",
    "    \"type\": \"당절임\",\n",
    "    \"ingredient\": [\"망고\",\"설탕\",\"메타중아황산나트륨\",\"치자황색소\"],\n",
    "    \"origin\":\"필리핀\"\n",
    "}\n",
    "\n",
    "print(\"name:\", dictionary[\"name\"])\n",
    "print(\"type:\", dictionary[\"type\"])\n",
    "print(\"ingredient:\", dictionary[\"ingredient\"])\n",
    "print(\"origin:\", dictionary[\"origin\"])\n",
    "print()"
   ]
  },
  {
   "cell_type": "code",
   "execution_count": 34,
   "metadata": {},
   "outputs": [
    {
     "name": "stdout",
     "output_type": "stream",
     "text": [
      "name: 8D 건조 망고\n"
     ]
    }
   ],
   "source": [
    "dictionary[\"name\"] = \"8D 건조 망고\"\n",
    "print(\"name:\", dictionary[\"name\"])"
   ]
  },
  {
   "cell_type": "code",
   "execution_count": 56,
   "metadata": {},
   "outputs": [],
   "source": [
    "del dictionary[\"origin\"]"
   ]
  },
  {
   "cell_type": "code",
   "execution_count": null,
   "metadata": {},
   "outputs": [],
   "source": [
    "key = input(\"> 접근하고자 하는 키: \")\n",
    "\n",
    "if key in dictionary:\n",
    "    print(dictionary[key])\n",
    "else:\n",
    "    print(\"존재하지 않는 키에 접근하고 있습니다.\")"
   ]
  },
  {
   "cell_type": "code",
   "execution_count": 59,
   "metadata": {},
   "outputs": [
    {
     "name": "stdout",
     "output_type": "stream",
     "text": [
      "값: None\n",
      "존재하지 않는 키에 접근했었습니다.\n"
     ]
    }
   ],
   "source": [
    "value = dictionary.get(\"존재하지 않는 키\")\n",
    "print(\"값:\", value)\n",
    "\n",
    "if value == None:\n",
    "    print(\"존재하지 않는 키에 접근했었습니다.\")"
   ]
  },
  {
   "cell_type": "code",
   "execution_count": 77,
   "metadata": {},
   "outputs": [
    {
     "name": "stdout",
     "output_type": "stream",
     "text": [
      "name: Alice\n",
      "age: 25\n"
     ]
    }
   ],
   "source": [
    "person = {\n",
    "    \"name\": \"Alice\",\n",
    "    \"age\": \"25\",\n",
    "    \"city\": \"Seoul\",\n",
    "}\n",
    "\n",
    "print(\"name:\", person[\"name\"])\n",
    "print(\"age:\", person[\"age\"])"
   ]
  },
  {
   "cell_type": "code",
   "execution_count": 68,
   "metadata": {},
   "outputs": [
    {
     "name": "stdout",
     "output_type": "stream",
     "text": [
      "30\n"
     ]
    }
   ],
   "source": [
    "person[\"age\"] = \"30\"\n",
    "print(person[\"age\"])"
   ]
  },
  {
   "cell_type": "code",
   "execution_count": 72,
   "metadata": {},
   "outputs": [
    {
     "name": "stdout",
     "output_type": "stream",
     "text": [
      "Developer\n"
     ]
    }
   ],
   "source": [
    "person[\"job\"] = \"Developer\"\n",
    "print(person[\"job\"])"
   ]
  },
  {
   "cell_type": "code",
   "execution_count": 78,
   "metadata": {},
   "outputs": [
    {
     "name": "stdout",
     "output_type": "stream",
     "text": [
      "{'name': 'Alice', 'age': '25'}\n"
     ]
    }
   ],
   "source": [
    "del person[\"city\"]\n",
    "print(person)"
   ]
  },
  {
   "cell_type": "code",
   "execution_count": 80,
   "metadata": {},
   "outputs": [
    {
     "name": "stdout",
     "output_type": "stream",
     "text": [
      "키가 존재합니다.\n",
      "키가 존재합니다.\n"
     ]
    }
   ],
   "source": [
    "# dictionary에 name이 존재하는지 확인하는 방법\n",
    "if \"name\" in person:\n",
    "    print(\"키가 존재합니다.\")\n",
    "else:\n",
    "    print(\"키가 존재하지 않습니다.\")\n",
    "\n",
    "# get() 함수를 이용하는 방법\n",
    "value = dictionary.get(\"name\")\n",
    "if value == None:\n",
    "    print(\"키가 존재하지 않습니다.\")\n",
    "else:\n",
    "    print(\"키가 존재합니다.\")"
   ]
  },
  {
   "cell_type": "code",
   "execution_count": 81,
   "metadata": {},
   "outputs": [
    {
     "name": "stdout",
     "output_type": "stream",
     "text": [
      "값이 존재합니다.\n"
     ]
    }
   ],
   "source": [
    "# 값이 존재하는지 확인하는 방법: values() 함수이용\n",
    "if \"Alice\" in person.values():\n",
    "    print(\"값이 존재합니다.\")\n",
    "else:\n",
    "    print(\"값이 존재하지 않습니다.\")"
   ]
  },
  {
   "cell_type": "markdown",
   "metadata": {},
   "source": [
    "문자열, 리스트, 딕셔너리와 관련된 기본함수"
   ]
  },
  {
   "cell_type": "code",
   "execution_count": 87,
   "metadata": {},
   "outputs": [
    {
     "name": "stdout",
     "output_type": "stream",
     "text": [
      "텍스트1텍스트2\n"
     ]
    }
   ],
   "source": [
    "# 문자열 연결 연산자: +\n",
    "text1 = \"텍스트1\";  text2 = \"텍스트2\"\n",
    "print(text1 + text2)"
   ]
  },
  {
   "cell_type": "code",
   "execution_count": 83,
   "metadata": {},
   "outputs": [
    {
     "name": "stdout",
     "output_type": "stream",
     "text": [
      "안녕하세요안녕하세요안녕하세요\n"
     ]
    }
   ],
   "source": [
    "# 문자열 반복 연산자: *\n",
    "print(3*\"안녕하세요\")"
   ]
  },
  {
   "cell_type": "markdown",
   "metadata": {},
   "source": [
    "인덱싱 - 많이 사용\n",
    "\n",
    "문자열 내부 문자 하나를 선택\n",
    "\n",
    "문자열 외에도 리스트형 자료에 인덱싱을 사용함\n",
    "\n",
    "파이썬은 제로 인덱스: 숫자를 0부터 셈"
   ]
  },
  {
   "cell_type": "code",
   "execution_count": 91,
   "metadata": {},
   "outputs": [
    {
     "name": "stdout",
     "output_type": "stream",
     "text": [
      "안\n",
      "녕\n",
      "하\n"
     ]
    }
   ],
   "source": [
    "text = \"안녕하세요\"\n",
    "print(text[0])\n",
    "print(text[1])\n",
    "print(text[2])"
   ]
  },
  {
   "cell_type": "code",
   "execution_count": 95,
   "metadata": {},
   "outputs": [
    {
     "name": "stdout",
     "output_type": "stream",
     "text": [
      "요\n",
      "세\n",
      "하\n"
     ]
    }
   ],
   "source": [
    "# 문자를 거꾸로 출력하려는 경우\n",
    "print(text[-1])\n",
    "print(text[-2])\n",
    "print(text[-3])"
   ]
  },
  {
   "cell_type": "code",
   "execution_count": null,
   "metadata": {},
   "outputs": [
    {
     "name": "stdout",
     "output_type": "stream",
     "text": [
      "녕하세\n"
     ]
    }
   ],
   "source": [
    "print(text[1:4])\n",
    "# 1~3번째 까지만\n",
    "# range(0,5): 0,1,2,3,4"
   ]
  },
  {
   "cell_type": "code",
   "execution_count": null,
   "metadata": {},
   "outputs": [],
   "source": [
    "# 문자열 뿐만이 아니라 리스트형 자료형도 슬라이싱 가능\n",
    "city = [\"Seoul\",\"Suwon\",\"Daegu\",\"Busan\",\"Incheon\"]\n",
    "#          0       1       2       3        4\n",
    "#         -5      -4      -3      -2       -1\n",
    "# 리스트형(List) => 괄호 []\n",
    "# 딕셔너리 => {}"
   ]
  },
  {
   "cell_type": "markdown",
   "metadata": {},
   "source": [
    "len() 함수\n",
    "\n",
    "문자열 길이를 구할 때나 리스트 자료형 길이를 구할 때 사용"
   ]
  },
  {
   "cell_type": "code",
   "execution_count": 101,
   "metadata": {},
   "outputs": [
    {
     "name": "stdout",
     "output_type": "stream",
     "text": [
      "안녕하세요\n",
      "5\n",
      "['Seoul', 'Suwon', 'Daegu', 'Busan', 'Incheon']\n",
      "5\n"
     ]
    }
   ],
   "source": [
    "print(text)\n",
    "print(len(text))\n",
    "print(city)\n",
    "print(len(city))"
   ]
  },
  {
   "cell_type": "markdown",
   "metadata": {},
   "source": [
    "참고\n",
    "\n",
    "python에서 변수 출력하는 방법 3가지\n",
    "\n",
    "1. 포맷 연산자(이전 방식)\n",
    "print(\"%d\" %(number))\n",
    "name = \"망고\"\n",
    "type = \"건조과일\"\n",
    "print(\"과일 이름: %s, 종류: %s\" % (name,type))\n",
    "- 계속 배우고 있는 형태\n",
    "\n",
    "2. f-strings (포맷 문자열 리터럴-권장)\n",
    "name = \"망고\"\n",
    "type = \"건조과일\"\n",
    "print(f\"과일이름: {name}, 종류: {type}\")\n",
    "\n",
    "3. str.format() 메서드\n",
    "name = \"망고\"\n",
    "type = \"건조과일\"\n",
    "print(\"과일이름: {}, 종류: {}\".format(name,type))"
   ]
  },
  {
   "cell_type": "code",
   "execution_count": 118,
   "metadata": {},
   "outputs": [
    {
     "name": "stdout",
     "output_type": "stream",
     "text": [
      "5000만 원\n",
      "1 문자열 True\n"
     ]
    }
   ],
   "source": [
    "format_a = \"{}만 원\".format(5000)\n",
    "format_d = \"{} {} {}\".format(1,\"문자열\",True)\n",
    "print(format_a)\n",
    "print(format_d)"
   ]
  },
  {
   "cell_type": "code",
   "execution_count": 125,
   "metadata": {},
   "outputs": [
    {
     "name": "stdout",
     "output_type": "stream",
     "text": [
      "5000만 원\n",
      "1 문자열 True\n"
     ]
    }
   ],
   "source": [
    "money = 5000; number = 1; text=\"문자열\"; flag=True\n",
    "print(f\"{money}만 원\")\n",
    "print(f\"{number} {text} {flag}\")"
   ]
  },
  {
   "cell_type": "markdown",
   "metadata": {},
   "source": [
    "정수 출력의 다양한 형태 - f-strings"
   ]
  },
  {
   "cell_type": "code",
   "execution_count": 187,
   "metadata": {},
   "outputs": [
    {
     "name": "stdout",
     "output_type": "stream",
     "text": [
      "   52\n",
      "52\n",
      "특정 칸에 출력하기\n",
      "   52\n",
      "00052\n",
      "-0052\n"
     ]
    }
   ],
   "source": [
    "number = 52\n",
    "output_a = f\"{number:d}\"\n",
    "\n",
    "#특정 칸에 출력하기\n",
    "print(\"%5d\" % number)\n",
    "output_b = f\"{number:5d}\" #총 5칸으로하고 오른쪽 정렬 후 출력\n",
    "output_d = f\"{number:05d}\" #총 5칸으로 하고 0으로 빈칸 채우기\n",
    "output_e = f\"{number2:05d}\" \n",
    "print(output_a)\n",
    "\n",
    "print(\"특정 칸에 출력하기\")\n",
    "print(output_b)\n",
    "print(output_d)\n",
    "print(output_e)"
   ]
  },
  {
   "cell_type": "code",
   "execution_count": null,
   "metadata": {},
   "outputs": [
    {
     "name": "stdout",
     "output_type": "stream",
     "text": [
      "# 기호와 함께 출력하기\n",
      "+52\n",
      "-52\n",
      "52\n",
      "-52\n"
     ]
    }
   ],
   "source": [
    "# 기호와 함께 출력하기\n",
    "number = 52\n",
    "number2 = -52\n",
    "output_f = f\"{number:+d}\" #양수, +가 추가후 출력\n",
    "output_g = f\"{number2:+d}\" #음수, -가 추가\n",
    "output_h = f\"{number:d}\" #양수: 기호 부분 공백\n",
    "output_i = f\"{number2:d}\" #음수: 기호 부분 공백 -추가\n",
    "\n",
    "print(\"# 기호와 함께 출력하기\")\n",
    "print(output_f);print(output_g);print(output_h);\n",
    "print(output_i)"
   ]
  },
  {
   "cell_type": "markdown",
   "metadata": {},
   "source": [
    "소수점 아래 자릿수 지정하기"
   ]
  },
  {
   "cell_type": "code",
   "execution_count": 188,
   "metadata": {},
   "outputs": [
    {
     "name": "stdout",
     "output_type": "stream",
     "text": [
      "         52.273\n",
      "          52.27\n",
      "           52.3\n"
     ]
    }
   ],
   "source": [
    "number = 52.273\n",
    "output_a = f\"{number:15.3f}\"\n",
    "output_b = f\"{number:15.2f}\"\n",
    "output_c = f\"{number:15.1f}\"\n",
    "\n",
    "print(output_a)\n",
    "print(output_b)\n",
    "print(output_c)"
   ]
  },
  {
   "cell_type": "markdown",
   "metadata": {},
   "source": [
    "의미 없는 소수점 제거하기\n",
    "\n",
    "{:g}"
   ]
  },
  {
   "cell_type": "code",
   "execution_count": 189,
   "metadata": {},
   "outputs": [
    {
     "name": "stdout",
     "output_type": "stream",
     "text": [
      "52.0\n",
      "52\n"
     ]
    }
   ],
   "source": [
    "output_a = 52.0\n",
    "output_b = f\"{output_a:g}\"\n",
    "print(output_a)\n",
    "print(output_b)"
   ]
  },
  {
   "cell_type": "code",
   "execution_count": 191,
   "metadata": {},
   "outputs": [
    {
     "name": "stdout",
     "output_type": "stream",
     "text": [
      "2.0\n",
      "2\n"
     ]
    }
   ],
   "source": [
    "num1 = 20 ;num2 = 10\n",
    "print(num1/num2) #점수를 연산했기 때문에 정수가 나오면 좋겠음\n",
    "print(f\"{num1/num2:g}\")"
   ]
  },
  {
   "cell_type": "markdown",
   "metadata": {},
   "source": [
    "문자열변수.upper() -> 모두 대문자로 변경\n",
    "\n",
    "문자열변수.lower() -> 모두 소문자로 변경"
   ]
  },
  {
   "cell_type": "code",
   "execution_count": 194,
   "metadata": {},
   "outputs": [
    {
     "name": "stdout",
     "output_type": "stream",
     "text": [
      "DAEGU\n",
      "daegu\n"
     ]
    }
   ],
   "source": [
    "a = \"Daegu\"\n",
    "print(a.upper())\n",
    "print(a.lower())"
   ]
  },
  {
   "cell_type": "markdown",
   "metadata": {},
   "source": [
    "strip() 함수, lstrip() 함수, rstrip() 함수\n",
    "\n",
    "strip() 함수 : 문자열 양 쪽 긑의 공백 또는 지정된 문자를 제거\n",
    "\n",
    "lstrip() 문자열 왼쪽(시작 부분)에서 공백 또는 지정된 문자를 제거\n",
    "\n",
    "rstrip() 문자열 오른쪽(끝 부분)에서 공백 또는 지정된 문자를 제거"
   ]
  },
  {
   "cell_type": "code",
   "execution_count": 197,
   "metadata": {},
   "outputs": [
    {
     "name": "stdout",
     "output_type": "stream",
     "text": [
      "Hello, World!\n",
      "Hello, World!\n"
     ]
    }
   ],
   "source": [
    "text = \"    Hello, World!   \"\n",
    "print(text.strip())\n",
    "\n",
    "text = \"###Hello, World!###\"\n",
    "print(text.strip('#'))"
   ]
  },
  {
   "cell_type": "code",
   "execution_count": 202,
   "metadata": {},
   "outputs": [
    {
     "name": "stdout",
     "output_type": "stream",
     "text": [
      "    Hello, World!\n",
      "###Hello, World!\n"
     ]
    }
   ],
   "source": [
    "# lstrip, rstrip() 함수\n",
    "text = \"    Hello, World!   \"\n",
    "print(text.rstrip())\n",
    "\n",
    "text = \"###Hello, World!###\"\n",
    "print(text.rstrip('#'))"
   ]
  },
  {
   "cell_type": "markdown",
   "metadata": {},
   "source": [
    "문자열을 찾는 함수\n",
    "\n",
    "find(): 왼쪽부터 찾아서 처음 등장하는 위치를 찾음\n",
    "\n",
    "rfind(): 오른쪽부터 찾아서 처음 등장하는 위치를 찾음"
   ]
  },
  {
   "cell_type": "code",
   "execution_count": 203,
   "metadata": {},
   "outputs": [
    {
     "name": "stdout",
     "output_type": "stream",
     "text": [
      "0\n",
      "2\n"
     ]
    }
   ],
   "source": [
    "output_a = \"안녕안녕하세요\".find(\"안녕\")\n",
    "print(output_a)\n",
    "\n",
    "output_b = \"안녕안녕하세요\".rfind(\"안녕\")\n",
    "print(output_b)"
   ]
  },
  {
   "cell_type": "markdown",
   "metadata": {},
   "source": [
    "split() 함수\n",
    "\n",
    "- 문자열을 특정한 문자로 자름"
   ]
  },
  {
   "cell_type": "code",
   "execution_count": 204,
   "metadata": {},
   "outputs": [
    {
     "name": "stdout",
     "output_type": "stream",
     "text": [
      "['10', '20', '30', '40', '50']\n"
     ]
    }
   ],
   "source": [
    "a = \"10 20 30 40 50\".split(\" \")\n",
    "print(a)"
   ]
  },
  {
   "cell_type": "code",
   "execution_count": 206,
   "metadata": {},
   "outputs": [
    {
     "name": "stdout",
     "output_type": "stream",
     "text": [
      "21\n",
      "103\n",
      "233\n"
     ]
    }
   ],
   "source": [
    "numbers = [103, 42, 23, 44, 21]\n",
    "\n",
    "print(min(numbers))\n",
    "print(max(numbers))\n",
    "print(sum(numbers))"
   ]
  },
  {
   "cell_type": "markdown",
   "metadata": {},
   "source": [
    "순서 뒤집기 함수\n",
    "\n",
    "reversed()"
   ]
  },
  {
   "cell_type": "code",
   "execution_count": 207,
   "metadata": {},
   "outputs": [
    {
     "name": "stdout",
     "output_type": "stream",
     "text": [
      "<list_reverseiterator object at 0x0000018598CEFF10>\n",
      "21\n",
      "44\n",
      "23\n",
      "42\n",
      "103\n"
     ]
    }
   ],
   "source": [
    "reversed_numbers = reversed(numbers)\n",
    "print(reversed_numbers)\n",
    "for i in reversed_numbers:\n",
    "    print(i)"
   ]
  },
  {
   "cell_type": "markdown",
   "metadata": {},
   "source": [
    "enumerate() 함수\n",
    "\n",
    "리스트 요소를 반복할 때 현재 인덱스가 몇번째인지 확인하는 함수"
   ]
  },
  {
   "cell_type": "code",
   "execution_count": 209,
   "metadata": {},
   "outputs": [
    {
     "name": "stdout",
     "output_type": "stream",
     "text": [
      "0번째 요소는 요소A입니다.\n",
      "1번째 요소는 요소B입니다.\n",
      "2번째 요소는 요소C입니다.\n",
      "0번째 요소는 요소A입니다.\n",
      "1번째 요소는 요소B입니다.\n",
      "2번째 요소는 요소C입니다.\n"
     ]
    }
   ],
   "source": [
    "example_list = [\"요소A\", \"요소B\", \"요소C\"]\n",
    "i = 0\n",
    "for item in example_list:\n",
    "    print(f\"{i}번째 요소는 {item}입니다.\")\n",
    "    i += 1\n",
    "\n",
    "for index, value in enumerate(example_list):\n",
    "    print(f\"{index}번째 요소는 {value}입니다.\")"
   ]
  }
 ],
 "metadata": {
  "kernelspec": {
   "display_name": "Python 3",
   "language": "python",
   "name": "python3"
  },
  "language_info": {
   "codemirror_mode": {
    "name": "ipython",
    "version": 3
   },
   "file_extension": ".py",
   "mimetype": "text/x-python",
   "name": "python",
   "nbconvert_exporter": "python",
   "pygments_lexer": "ipython3",
   "version": "3.12.7"
  }
 },
 "nbformat": 4,
 "nbformat_minor": 2
}
