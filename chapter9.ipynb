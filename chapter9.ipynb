{
 "cells": [
  {
   "cell_type": "markdown",
   "metadata": {},
   "source": [
    "Chapter 9 클래스"
   ]
  },
  {
   "cell_type": "markdown",
   "metadata": {},
   "source": [
    "정리\n",
    "\n",
    "1. 반복적인 것을 해야될 때 사용, 기본 틀을 만들어서 사용하자!!\n",
    "\n",
    "- 예를들면 비슷한 범주+기능을 갖출때\n",
    "\n",
    "2. 구조: 속성(변수) + 메서드(함수)\n",
    "\n",
    "속성: 객체의 상태를 나타냄\n",
    "\n",
    "메서드: 객체의 동작을 정의\n",
    "\n",
    "3. 무조건 클래스를 사용해야하나? No. \n",
    "변수와 함수가 4번 이상정도 반복되고, 독립적으로 사용된다면 사용할 것.\n",
    "\n",
    "4. 클래스를 사용해서 어떤 결과를 얻을지를 생각 (입력, 출력결과)"
   ]
  },
  {
   "cell_type": "code",
   "execution_count": 3,
   "metadata": {},
   "outputs": [
    {
     "name": "stdout",
     "output_type": "stream",
     "text": [
      "3\n",
      "7\n"
     ]
    }
   ],
   "source": [
    "# calculator.py\n",
    "result = 0\n",
    "\n",
    "def add(num):\n",
    "    global result\n",
    "    result += num  # 결괏값(result)에 입력값(num) 더하기\n",
    "    return result  # 결괏값 리턴\n",
    "\n",
    "print(add(3))\n",
    "print(add(4))"
   ]
  },
  {
   "cell_type": "markdown",
   "metadata": {},
   "source": [
    "한 프로그램 안에서 2대의 계산기가 필요한 상황이 발생하면 어떻게 해야하나?\n",
    "\n",
    "-> 계산기는 각각 결과를 유지해야 하므로 add함수를 2개를 만들어서 사용"
   ]
  },
  {
   "cell_type": "code",
   "execution_count": 13,
   "metadata": {},
   "outputs": [
    {
     "name": "stdout",
     "output_type": "stream",
     "text": [
      "3\n",
      "7\n",
      "-3\n",
      "-10\n"
     ]
    }
   ],
   "source": [
    "# calculator2.py\n",
    "result1 = 0\n",
    "result2 = 0\n",
    "\n",
    "def add1(num):  # 계산기1\n",
    "    global result1\n",
    "    result1 += num\n",
    "    return result1\n",
    "\n",
    "def add2(num):  # 계산기2\n",
    "    global result2\n",
    "    result2 -= num\n",
    "    return result2\n",
    "\n",
    "print(add1(3))\n",
    "print(add1(4))\n",
    "print(add2(3))\n",
    "print(add2(7))"
   ]
  },
  {
   "cell_type": "markdown",
   "metadata": {},
   "source": [
    "계산기 3, 4, 5개 10개가 필요한 경우에는 어떻게 할 것인가?\n",
    "\n",
    "-> 클래스가 필요\n",
    "\n",
    "결국은 코드 작성에 비효율적인 부분 제거하기 하기 위해서 사용\n",
    "\n",
    "반복문,\n",
    "\n",
    "함수 = 반복문, 조건문, 출력문, 자료 조합 되서 하나의 기능을 만듦\n",
    "\n",
    "전체적으로 공통적인 틀을 만들고 사용을 하면 편리함"
   ]
  },
  {
   "cell_type": "code",
   "execution_count": 8,
   "metadata": {},
   "outputs": [
    {
     "name": "stdout",
     "output_type": "stream",
     "text": [
      "3\n",
      "7\n",
      "3\n",
      "10\n"
     ]
    }
   ],
   "source": [
    "# calculator3.py\n",
    "class Calculator:\n",
    "    def __init__(self):\n",
    "        self.result = 0\n",
    "\n",
    "    def add(self, num):\n",
    "        self.result += num\n",
    "        return self.result\n",
    "\n",
    "cal1 = Calculator()\n",
    "cal2 = Calculator()\n",
    "\n",
    "print(cal1.add(3))\n",
    "print(cal1.add(4))\n",
    "print(cal2.add(3))\n",
    "print(cal2.add(7))"
   ]
  },
  {
   "cell_type": "markdown",
   "metadata": {},
   "source": [
    "클래스는 3개 이상의 반복되는 객체를 생성할 필요가 있을 때 만드는 것이 좋음\n",
    "\n"
   ]
  },
  {
   "cell_type": "markdown",
   "metadata": {},
   "source": [
    "계산기에 만약에 -기능을 만든다면"
   ]
  },
  {
   "cell_type": "code",
   "execution_count": 14,
   "metadata": {},
   "outputs": [],
   "source": [
    "class Calculator:\n",
    "    def __init__(self):\n",
    "        self.result = 0\n",
    "\n",
    "    def add(self, num):\n",
    "        self.result += num\n",
    "        return self.result\n",
    "\n",
    "    def sub(self, num): #뺄셈 부분\n",
    "        self.result -= num\n",
    "        return self.result"
   ]
  },
  {
   "cell_type": "markdown",
   "metadata": {},
   "source": [
    "과자틀 = 클래스\n",
    "\n",
    "과자틀로 찍어낸 과자 = 객체\n",
    "\n",
    "클래스로 만든 객체에는 중요한 특징이 있음\n",
    "\n",
    "-> 객체마다 고유한 성격을 가진다. 예) 과자 틀로 만든 과자에 구멍을 뚫거나,\n",
    "베어먹더라도 다른 과자에는 아무런 영향이 없음"
   ]
  },
  {
   "cell_type": "code",
   "execution_count": 15,
   "metadata": {},
   "outputs": [],
   "source": [
    "# 아무 기능이 없는 Cookie라는 클래스 생성\n",
    "class Cookie:\n",
    "    pass"
   ]
  },
  {
   "cell_type": "code",
   "execution_count": null,
   "metadata": {},
   "outputs": [],
   "source": [
    "# Cookie 클래스의 객체를 만듦\n",
    "a = Cookie()\n",
    "b = Cookie()"
   ]
  },
  {
   "cell_type": "markdown",
   "metadata": {},
   "source": [
    "사칙 연산 클래스 만들기"
   ]
  },
  {
   "cell_type": "markdown",
   "metadata": {},
   "source": [
    "1. 클래스가 어떻게 생성되고, 어떤 동작을 해서 결과가 어떻게 보여줄 줄지 구상\n",
    "\n",
    "점프투 파이썬 클래스 내용 참조"
   ]
  },
  {
   "cell_type": "markdown",
   "metadata": {},
   "source": [
    "클래스 구조를 만들어 보기"
   ]
  },
  {
   "cell_type": "code",
   "execution_count": null,
   "metadata": {},
   "outputs": [
    {
     "name": "stdout",
     "output_type": "stream",
     "text": [
      "<class '__main__.FourCal'>\n"
     ]
    }
   ],
   "source": [
    "class FourCal:\n",
    "    def setdata(self, first, second): # 매서드의 매개변수\n",
    "        self.first = first # 매서드의 수행문\n",
    "        self.second = second # 수행문\n",
    "\n",
    "# 아무 내용이 없는 클래스 선언, 객체 생성은 가능함\n",
    "a = FourCal() # a라는 객체는 생성, FourCal의 인스턴스\n",
    "print(type(a))"
   ]
  },
  {
   "cell_type": "code",
   "execution_count": 21,
   "metadata": {},
   "outputs": [],
   "source": [
    "class FourCal:\n",
    "    def setdata(self, first, second): # 매서드의 매개변수\n",
    "        self.first = first # 매서드의 수행문\n",
    "        self.second = second # 수행문\n",
    "\n",
    "# 아무 내용이 없는 클래스 선언, 객체 생성은 가능함\n",
    "a = FourCal() # a라는 객체는 생성, FourCal의 인스턴스\n",
    "a.setdata(4,2)"
   ]
  },
  {
   "cell_type": "code",
   "execution_count": 22,
   "metadata": {},
   "outputs": [
    {
     "name": "stdout",
     "output_type": "stream",
     "text": [
      "4\n",
      "2\n"
     ]
    }
   ],
   "source": [
    "print(a.first)\n",
    "print(a.second)"
   ]
  },
  {
   "cell_type": "code",
   "execution_count": 25,
   "metadata": {},
   "outputs": [
    {
     "data": {
      "text/plain": [
       "6"
      ]
     },
     "execution_count": 25,
     "metadata": {},
     "output_type": "execute_result"
    }
   ],
   "source": [
    "class FourCal:\n",
    "    def setdata(self, first, second): # 매서드의 매개변수\n",
    "        self.first = first # 매서드의 수행문\n",
    "        self.second = second # 수행문\n",
    "    def add(self):\n",
    "        result = self.first + self.second\n",
    "        return result\n",
    "\n",
    "# 아무 내용이 없는 클래스 선언, 객체 생성은 가능함\n",
    "a = FourCal() # a라는 객체는 생성, FourCal의 인스턴스\n",
    "a.setdata(4,2)\n",
    "a.add()"
   ]
  },
  {
   "cell_type": "code",
   "execution_count": 26,
   "metadata": {},
   "outputs": [
    {
     "data": {
      "text/plain": [
       "3"
      ]
     },
     "execution_count": 26,
     "metadata": {},
     "output_type": "execute_result"
    }
   ],
   "source": [
    "b = FourCal()\n",
    "b.setdata(3,7)\n",
    "b.first"
   ]
  },
  {
   "cell_type": "markdown",
   "metadata": {},
   "source": [
    "덧셈 외에 다른 뺄셈, 곱셈, 나눗셈 추가"
   ]
  },
  {
   "cell_type": "code",
   "execution_count": 31,
   "metadata": {},
   "outputs": [
    {
     "name": "stdout",
     "output_type": "stream",
     "text": [
      "6\n",
      "2\n",
      "8\n",
      "2.0\n"
     ]
    }
   ],
   "source": [
    "class FourCal:\n",
    "    def setdata(self, first, second): # 매서드의 매개변수\n",
    "        self.first = first # 매서드의 수행문\n",
    "        self.second = second # 수행문\n",
    "    def add(self):\n",
    "        result = self.first + self.second\n",
    "        return result\n",
    "    def sub(self):\n",
    "        result = self.first - self.second\n",
    "        return result\n",
    "    def mul(self):\n",
    "        result = self.first * self.second\n",
    "        return result\n",
    "    def div(self):\n",
    "        result = self.first / self.second\n",
    "        return result\n",
    "\n",
    "# 아무 내용이 없는 클래스 선언, 객체 생성은 가능함\n",
    "a = FourCal() # a라는 객체는 생성, FourCal의 인스턴스\n",
    "a.setdata(4,2)\n",
    "print(a.add())\n",
    "print(a.sub())\n",
    "print(a.mul())\n",
    "print(a.div())"
   ]
  },
  {
   "cell_type": "markdown",
   "metadata": {},
   "source": [
    "생성자를 활용\n",
    "\n",
    "생성자 => 클래스를 생성할 때 객체 내 변수를 설정"
   ]
  },
  {
   "cell_type": "code",
   "execution_count": 35,
   "metadata": {},
   "outputs": [],
   "source": [
    "class FourCal:\n",
    "    def __init__(self, first, second): # setdata 함수와 차이는 없는데\n",
    "        #__init__을 했기 때문에 객체가 생성되는 시점에서 자동으로 호출\n",
    "        self.first = first # 매서드의 수행문\n",
    "        self.second = second # 수행문\n",
    "    def add(self):\n",
    "        result = self.first + self.second\n",
    "        return result\n",
    "    def sub(self):\n",
    "        result = self.first - self.second\n",
    "        return result\n",
    "    def mul(self):\n",
    "        result = self.first * self.second\n",
    "        return result\n",
    "    def div(self):\n",
    "        result = self.first / self.second\n",
    "        return result"
   ]
  },
  {
   "cell_type": "code",
   "execution_count": null,
   "metadata": {},
   "outputs": [],
   "source": [
    "a = FourCal()"
   ]
  },
  {
   "cell_type": "code",
   "execution_count": 40,
   "metadata": {},
   "outputs": [
    {
     "name": "stdout",
     "output_type": "stream",
     "text": [
      "6\n",
      "2\n",
      "8\n",
      "2.0\n"
     ]
    }
   ],
   "source": [
    "a = FourCal(4,2) # setdata가 따로 메서드를 호출하던것을\n",
    "# __init__메서드를 사용해서 생성시에 바로 입력\n",
    "# 따로만들면 초기 변수 세팅을 안해서 생기는 문제들이 있음\n",
    "print(a.add())\n",
    "print(a.sub())\n",
    "print(a.mul())\n",
    "print(a.div())"
   ]
  },
  {
   "cell_type": "markdown",
   "metadata": {},
   "source": [
    "클래스의 상속\n",
    "\n",
    "상속: 물려받다라는 뜻. 어떤 클래스를 만들 때 다른 클래스의 기능을 물려받을 수 있게 만드는 것이다.\n",
    "\n",
    "상속 개념을 사용하여 우리가 만든 FourCal 클래스에 a^b값을 구할수 있는 기능을 추가\n",
    "\n",
    "FourCal 클래스를 상속하는 MoreFourCal 클래스를 만들자"
   ]
  },
  {
   "cell_type": "code",
   "execution_count": 43,
   "metadata": {},
   "outputs": [],
   "source": [
    "# 상속하기 위해서는\n",
    "# Class 클래스_이름(상속할_클래스_이름)\n",
    "class MoreFourCal(FourCal): # 클래스의 입력값 FourCal\n",
    "    pass"
   ]
  },
  {
   "cell_type": "code",
   "execution_count": 61,
   "metadata": {},
   "outputs": [
    {
     "name": "stdout",
     "output_type": "stream",
     "text": [
      "6\n",
      "8\n"
     ]
    }
   ],
   "source": [
    "a = MoreFourCal(4, 2)\n",
    "print(a.add())\n",
    "print(a.mul())"
   ]
  },
  {
   "cell_type": "code",
   "execution_count": 46,
   "metadata": {},
   "outputs": [],
   "source": [
    "class MoreFourCal(FourCal): # 클래스의 입력값 FourCal\n",
    "    def pow(self):\n",
    "        result = self.first ** self.second\n",
    "        return result"
   ]
  },
  {
   "cell_type": "code",
   "execution_count": 47,
   "metadata": {},
   "outputs": [
    {
     "name": "stdout",
     "output_type": "stream",
     "text": [
      "16\n"
     ]
    }
   ],
   "source": [
    "a = MoreFourCal(4, 2)\n",
    "print(a.pow())"
   ]
  },
  {
   "cell_type": "code",
   "execution_count": 51,
   "metadata": {},
   "outputs": [
    {
     "name": "stdout",
     "output_type": "stream",
     "text": [
      "6\n",
      "16\n"
     ]
    }
   ],
   "source": [
    "a = MoreFourCal(4, 2)\n",
    "print(a.add())\n",
    "print(a.pow())"
   ]
  },
  {
   "cell_type": "markdown",
   "metadata": {},
   "source": [
    "메서드 오버라이딩\n",
    "\n",
    "1. 상속을 해야함 -> 기존 클래스를 이용해서 새로운 클래스 생성\n",
    "\n",
    "2. 기존 클래스에 메서드 명으로 새로운 메서드를 만들면 메서드 오버라이딩"
   ]
  },
  {
   "cell_type": "code",
   "execution_count": 102,
   "metadata": {},
   "outputs": [
    {
     "ename": "ZeroDivisionError",
     "evalue": "division by zero",
     "output_type": "error",
     "traceback": [
      "\u001b[1;31m---------------------------------------------------------------------------\u001b[0m",
      "\u001b[1;31mZeroDivisionError\u001b[0m                         Traceback (most recent call last)",
      "Cell \u001b[1;32mIn[102], line 2\u001b[0m\n\u001b[0;32m      1\u001b[0m a \u001b[38;5;241m=\u001b[39m FourCal(\u001b[38;5;241m4\u001b[39m,\u001b[38;5;241m0\u001b[39m)\n\u001b[1;32m----> 2\u001b[0m \u001b[43ma\u001b[49m\u001b[38;5;241;43m.\u001b[39;49m\u001b[43mdiv\u001b[49m\u001b[43m(\u001b[49m\u001b[43m)\u001b[49m\n",
      "Cell \u001b[1;32mIn[35], line 16\u001b[0m, in \u001b[0;36mFourCal.div\u001b[1;34m(self)\u001b[0m\n\u001b[0;32m     15\u001b[0m \u001b[38;5;28;01mdef\u001b[39;00m \u001b[38;5;21mdiv\u001b[39m(\u001b[38;5;28mself\u001b[39m):\n\u001b[1;32m---> 16\u001b[0m     result \u001b[38;5;241m=\u001b[39m \u001b[38;5;28;43mself\u001b[39;49m\u001b[38;5;241;43m.\u001b[39;49m\u001b[43mfirst\u001b[49m\u001b[43m \u001b[49m\u001b[38;5;241;43m/\u001b[39;49m\u001b[43m \u001b[49m\u001b[38;5;28;43mself\u001b[39;49m\u001b[38;5;241;43m.\u001b[39;49m\u001b[43msecond\u001b[49m\n\u001b[0;32m     17\u001b[0m     \u001b[38;5;28;01mreturn\u001b[39;00m result\n",
      "\u001b[1;31mZeroDivisionError\u001b[0m: division by zero"
     ]
    }
   ],
   "source": [
    "a = FourCal(4,0)\n",
    "a.div()"
   ]
  },
  {
   "cell_type": "code",
   "execution_count": 100,
   "metadata": {},
   "outputs": [],
   "source": [
    "class SafeFourCal(FourCal):\n",
    "    def div(self): # 상속을 하였는데 함수명이 FourCal 함수명이랑 같은 함수\n",
    "        if self.second == 0: # 나누는 값이 0인경우 0을 리턴 하도록 수정\n",
    "            return 0\n",
    "        else:\n",
    "            return self.first / self.second"
   ]
  },
  {
   "cell_type": "code",
   "execution_count": 101,
   "metadata": {},
   "outputs": [
    {
     "data": {
      "text/plain": [
       "0"
      ]
     },
     "execution_count": 101,
     "metadata": {},
     "output_type": "execute_result"
    }
   ],
   "source": [
    "a = SafeFourCal(4,0)\n",
    "a.div()"
   ]
  },
  {
   "cell_type": "markdown",
   "metadata": {},
   "source": [
    "클래스 변수"
   ]
  },
  {
   "cell_type": "code",
   "execution_count": 115,
   "metadata": {},
   "outputs": [],
   "source": [
    "class Family:\n",
    "    lastname = \"김\""
   ]
  },
  {
   "cell_type": "markdown",
   "metadata": {},
   "source": [
    "Family 클래스에 선언된 lastname이 바로 클래스 변수.\n",
    "\n",
    "클래스 변수는 클래스 안에 함수를 선언하는 것과 마찬가지로 클래스 안에 변수를 선언하여 생성한다."
   ]
  },
  {
   "cell_type": "code",
   "execution_count": 116,
   "metadata": {},
   "outputs": [
    {
     "data": {
      "text/plain": [
       "'김'"
      ]
     },
     "execution_count": 116,
     "metadata": {},
     "output_type": "execute_result"
    }
   ],
   "source": [
    "Family.lastname\n",
    "# 클래스_이름.클래스변수"
   ]
  },
  {
   "cell_type": "code",
   "execution_count": 117,
   "metadata": {},
   "outputs": [
    {
     "name": "stdout",
     "output_type": "stream",
     "text": [
      "김\n",
      "김\n"
     ]
    }
   ],
   "source": [
    "a = Family()\n",
    "b = Family()\n",
    "print(a.lastname)\n",
    "print(b.lastname)"
   ]
  },
  {
   "cell_type": "code",
   "execution_count": 118,
   "metadata": {},
   "outputs": [
    {
     "name": "stdout",
     "output_type": "stream",
     "text": [
      "박\n",
      "박\n"
     ]
    }
   ],
   "source": [
    "Family.lastname = \"박\"\n",
    "print(a.lastname)\n",
    "print(b.lastname)"
   ]
  }
 ],
 "metadata": {
  "kernelspec": {
   "display_name": "Python 3",
   "language": "python",
   "name": "python3"
  },
  "language_info": {
   "codemirror_mode": {
    "name": "ipython",
    "version": 3
   },
   "file_extension": ".py",
   "mimetype": "text/x-python",
   "name": "python",
   "nbconvert_exporter": "python",
   "pygments_lexer": "ipython3",
   "version": "3.12.8"
  }
 },
 "nbformat": 4,
 "nbformat_minor": 2
}
