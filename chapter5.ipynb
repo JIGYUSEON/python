{
 "cells": [
  {
   "cell_type": "markdown",
   "metadata": {},
   "source": [
    "반복문"
   ]
  },
  {
   "cell_type": "code",
   "execution_count": 69,
   "metadata": {},
   "outputs": [
    {
     "name": "stdout",
     "output_type": "stream",
     "text": [
      "0: 안녕하세요? for 문을 공부 중입니다. ^^\n",
      "1: 안녕하세요? for 문을 공부 중입니다. ^^\n",
      "2: 안녕하세요? for 문을 공부 중입니다. ^^\n"
     ]
    }
   ],
   "source": [
    "for i in range(0,3,1):\n",
    "#             (시작값,끝값+1,증가값)\n",
    "    print(\"%d: 안녕하세요? for 문을 공부 중입니다. ^^\" % i)"
   ]
  },
  {
   "cell_type": "markdown",
   "metadata": {},
   "source": [
    "1부터 10까지 합계 구하기\n",
    "for 문사용"
   ]
  },
  {
   "cell_type": "code",
   "execution_count": 7,
   "metadata": {},
   "outputs": [
    {
     "name": "stdout",
     "output_type": "stream",
     "text": [
      "i:  1\n",
      "sum:  0\n",
      "i:  2\n",
      "sum:  1\n",
      "i:  3\n",
      "sum:  3\n",
      "i:  4\n",
      "sum:  6\n",
      "i:  5\n",
      "sum:  10\n",
      "i:  6\n",
      "sum:  15\n",
      "i:  7\n",
      "sum:  21\n",
      "i:  8\n",
      "sum:  28\n",
      "i:  9\n",
      "sum:  36\n",
      "i:  10\n",
      "sum:  45\n"
     ]
    }
   ],
   "source": [
    "sum = 0\n",
    "# range 범위를 1부터 10까지 되도록 수정\n",
    "for i in range(1,11,1):\n",
    "    print(\"i: \", i)\n",
    "    print(\"sum: \", sum)\n",
    "    sum = sum + i"
   ]
  },
  {
   "cell_type": "markdown",
   "metadata": {},
   "source": [
    "500과 1000사이에 있는 홀수의 합계"
   ]
  },
  {
   "cell_type": "code",
   "execution_count": 10,
   "metadata": {},
   "outputs": [
    {
     "name": "stdout",
     "output_type": "stream",
     "text": [
      "500과 1000사이에 있는 홀수의 합계 : 187500\n"
     ]
    }
   ],
   "source": [
    "i, hap = 0, 0\n",
    "\n",
    "for i in range(501,1001,2):\n",
    "    hap = hap + i\n",
    "\n",
    "print(\"500과 1000사이에 있는 홀수의 합계 : %d\" %hap)"
   ]
  },
  {
   "cell_type": "code",
   "execution_count": null,
   "metadata": {},
   "outputs": [
    {
     "name": "stdout",
     "output_type": "stream",
     "text": [
      "0과 7사이에 있는 홀수의 합계 : 735\n"
     ]
    }
   ],
   "source": [
    "i, hap = 0, 0\n",
    "\n",
    "#만약에 range(1,101,7)이면 1, 8, 15, ...이 나옴\n",
    "for i in range(0,101,7):\n",
    "    hap = hap + i\n",
    "\n",
    "print(\"0과 7사이에 있는 홀수의 합계 : %d\" %hap)"
   ]
  },
  {
   "cell_type": "code",
   "execution_count": 82,
   "metadata": {},
   "outputs": [
    {
     "name": "stdout",
     "output_type": "stream",
     "text": [
      "2 * 1 =  2\n",
      "2 * 2 =  4\n",
      "2 * 3 =  6\n",
      "2 * 4 =  8\n",
      "2 * 5 = 10\n",
      "2 * 6 = 12\n",
      "2 * 7 = 14\n",
      "2 * 8 = 16\n",
      "2 * 9 = 18\n"
     ]
    }
   ],
   "source": [
    "for i in range(1,10,1):\n",
    "    print(\"2 * %d = %2d\" % (i, i*2))"
   ]
  },
  {
   "cell_type": "code",
   "execution_count": 102,
   "metadata": {},
   "outputs": [
    {
     "name": "stdout",
     "output_type": "stream",
     "text": [
      "\n",
      "2 * 1 =  2\n",
      "2 * 2 =  4\n",
      "2 * 3 =  6\n",
      "2 * 4 =  8\n",
      "2 * 5 = 10\n",
      "2 * 6 = 12\n",
      "2 * 7 = 14\n",
      "2 * 8 = 16\n",
      "2 * 9 = 18\n",
      "\n",
      "3 * 1 =  3\n",
      "3 * 2 =  6\n",
      "3 * 3 =  9\n",
      "3 * 4 = 12\n",
      "3 * 5 = 15\n",
      "3 * 6 = 18\n",
      "3 * 7 = 21\n",
      "3 * 8 = 24\n",
      "3 * 9 = 27\n",
      "\n",
      "4 * 1 =  4\n",
      "4 * 2 =  8\n",
      "4 * 3 = 12\n",
      "4 * 4 = 16\n",
      "4 * 5 = 20\n",
      "4 * 6 = 24\n",
      "4 * 7 = 28\n",
      "4 * 8 = 32\n",
      "4 * 9 = 36\n",
      "\n",
      "5 * 1 =  5\n",
      "5 * 2 = 10\n",
      "5 * 3 = 15\n",
      "5 * 4 = 20\n",
      "5 * 5 = 25\n",
      "5 * 6 = 30\n",
      "5 * 7 = 35\n",
      "5 * 8 = 40\n",
      "5 * 9 = 45\n",
      "\n",
      "6 * 1 =  6\n",
      "6 * 2 = 12\n",
      "6 * 3 = 18\n",
      "6 * 4 = 24\n",
      "6 * 5 = 30\n",
      "6 * 6 = 36\n",
      "6 * 7 = 42\n",
      "6 * 8 = 48\n",
      "6 * 9 = 54\n",
      "\n",
      "7 * 1 =  7\n",
      "7 * 2 = 14\n",
      "7 * 3 = 21\n",
      "7 * 4 = 28\n",
      "7 * 5 = 35\n",
      "7 * 6 = 42\n",
      "7 * 7 = 49\n",
      "7 * 8 = 56\n",
      "7 * 9 = 63\n",
      "\n",
      "8 * 1 =  8\n",
      "8 * 2 = 16\n",
      "8 * 3 = 24\n",
      "8 * 4 = 32\n",
      "8 * 5 = 40\n",
      "8 * 6 = 48\n",
      "8 * 7 = 56\n",
      "8 * 8 = 64\n",
      "8 * 9 = 72\n",
      "\n",
      "9 * 1 =  9\n",
      "9 * 2 = 18\n",
      "9 * 3 = 27\n",
      "9 * 4 = 36\n",
      "9 * 5 = 45\n",
      "9 * 6 = 54\n",
      "9 * 7 = 63\n",
      "9 * 8 = 72\n",
      "9 * 9 = 81\n"
     ]
    }
   ],
   "source": [
    "for j in range(2,10,1):\n",
    "    print(\"\")\n",
    "\n",
    "    for i in range(1,10,1):\n",
    "        print(\"%d * %d = %2d\" % (j, i, j*i))"
   ]
  },
  {
   "cell_type": "code",
   "execution_count": 107,
   "metadata": {},
   "outputs": [
    {
     "name": "stdout",
     "output_type": "stream",
     "text": [
      "파이썬은 꿀잼입니다 (i값: 0, k값: 0)\n",
      "파이썬은 꿀잼입니다 (i값: 0, k값: 1)\n",
      "파이썬은 꿀잼입니다 (i값: 1, k값: 0)\n",
      "파이썬은 꿀잼입니다 (i값: 1, k값: 1)\n",
      "파이썬은 꿀잼입니다 (i값: 2, k값: 0)\n",
      "파이썬은 꿀잼입니다 (i값: 2, k값: 1)\n"
     ]
    }
   ],
   "source": [
    "for i in range(0,3,1):\n",
    "    for k in range(0,2,1):\n",
    "        print(\"파이썬은 꿀잼입니다 (i값: %d, k값: %d)\" % (i,k))"
   ]
  },
  {
   "cell_type": "markdown",
   "metadata": {},
   "source": [
    "while 문은 반복 횟수를 결정하기 보다 조건이 참일 때 반복\n",
    "\n",
    "for 문: 리스트, 대규모 DB 값, 순차적 반복해야할 때 많이 사용\n",
    "\n",
    "while: 조건일 때만 동작, for문 기능 못하는 것은 아님"
   ]
  },
  {
   "cell_type": "code",
   "execution_count": 3,
   "metadata": {},
   "outputs": [
    {
     "name": "stdout",
     "output_type": "stream",
     "text": [
      "0: 안녕하세요? for문을 공부 중입니다.^^\n",
      "1: 안녕하세요? for문을 공부 중입니다.^^\n",
      "2: 안녕하세요? for문을 공부 중입니다.^^\n"
     ]
    }
   ],
   "source": [
    "# for 문 안녕하세요~ 3회 출력하는 코드\n",
    "\n",
    "for i in range(0,3,1):\n",
    "    print(\"%d: 안녕하세요? for문을 공부 중입니다.^^\" %i)"
   ]
  },
  {
   "cell_type": "code",
   "execution_count": null,
   "metadata": {},
   "outputs": [],
   "source": [
    "# i = 0: for문 range 부분 첫부분\n",
    "i=0\n",
    "# while i < 3 부분 i가 3보다 작을 때 실행\n",
    "while i<3:\n",
    "    print(\"%d: 안녕하세요? for문을 공부 중입니다. ^^\" %i)\n",
    "    "
   ]
  },
  {
   "cell_type": "code",
   "execution_count": null,
   "metadata": {},
   "outputs": [],
   "source": [
    "i, sum = 0, 0 #i값 0, sum 0 -> 초기값 저장\n",
    "\n",
    "i = 1 # 시작값\n",
    "while i < 11:\n",
    "# while 문 조건이 10까지 돌아가야 하기 때문에 11을 해야 함\n",
    "    sum = sum + i\n",
    "    i = i + 1\n",
    "\n",
    "    print(\"1에서 10까지의 합계: %d\" % sum)"
   ]
  },
  {
   "cell_type": "markdown",
   "metadata": {},
   "source": [
    "while문 무한루프\n",
    "\n",
    "계속 돌아가는 while"
   ]
  },
  {
   "cell_type": "code",
   "execution_count": null,
   "metadata": {},
   "outputs": [],
   "source": [
    "while True:\n",
    "    print(\"무한루프 반복문\")"
   ]
  },
  {
   "cell_type": "code",
   "execution_count": null,
   "metadata": {},
   "outputs": [],
   "source": [
    "sum = 0\n",
    "a, b= 0, 0 #a,b는 더할 두 숫자\n",
    "\n",
    "while True:\n",
    "    a = int(input(\"더할 첫 번째 수를 입력하세요 :\"))\n",
    "    b = int(input(\"더할 두 번째 수를 입력하세요 :\"))\n",
    "    sum = a + b\n",
    "    print(\"%d + %d = %d\" % (a, b, sum))"
   ]
  },
  {
   "cell_type": "markdown",
   "metadata": {},
   "source": [
    "반복문을 탈출시키는 Break 문\n",
    "\n",
    "* Break 반복문을 중지하는 역할"
   ]
  },
  {
   "cell_type": "code",
   "execution_count": 4,
   "metadata": {},
   "outputs": [
    {
     "name": "stdout",
     "output_type": "stream",
     "text": [
      "for문을 1번 실행\n"
     ]
    }
   ],
   "source": [
    "for i in range(1,100):\n",
    "    print(\"for문을 %d번 실행\" %i)\n",
    "    break"
   ]
  },
  {
   "cell_type": "code",
   "execution_count": null,
   "metadata": {},
   "outputs": [],
   "source": [
    "for i in range(1,100):\n",
    "    print(\"for문을 %d번 실행\" %i)\n",
    "    if i == 100:\n",
    "        break"
   ]
  },
  {
   "cell_type": "code",
   "execution_count": 16,
   "metadata": {},
   "outputs": [],
   "source": [
    "sum = 0\n",
    "a, b= 0, 0 #a,b는 더할 두 숫자\n",
    "\n",
    "while True:\n",
    "    a = input(\"더할 첫 번째 수를 입력하세요 :\")\n",
    "    if a == \"$\":\n",
    "        break\n",
    "\n",
    "    b = input(\"더할 두 번째 수를 입력하세요 :\")\n",
    "    if b == \"$\":\n",
    "        break\n",
    "    \n",
    "    a = int(a)\n",
    "    b = int(b)\n",
    "    sum = a + b\n",
    "    print(\"%d + %d = %d\" % (a, b, sum))"
   ]
  },
  {
   "cell_type": "markdown",
   "metadata": {},
   "source": [
    "continue 문\n",
    "\n",
    "반복문으로 처음으로 다시돌아가는 구문"
   ]
  },
  {
   "cell_type": "code",
   "execution_count": null,
   "metadata": {},
   "outputs": [],
   "source": [
    "sum, i = 0, 0\n",
    "\n",
    "for i in range(1,101):\n",
    "    # 정수를 3으로 나눠서 0인 경우 ->3의 배수를 의미\n",
    "    # if문에서 3의 배수이면 continue\n",
    "    # continue를 실행하면 sum = sum + i가 실행이 되지 않고\n",
    "    # for문의 처음으로 이동함\n",
    "    if i % 3 == 0:\n",
    "        continue\n",
    "    \n",
    "    sum = sum + i\n",
    "\n",
    "print(\"1~100의 합계 (3의 배수는 제외): %d\" % sum)"
   ]
  },
  {
   "cell_type": "code",
   "execution_count": 27,
   "metadata": {},
   "outputs": [
    {
     "name": "stdout",
     "output_type": "stream",
     "text": [
      "★\n"
     ]
    }
   ],
   "source": [
    "print('\\u2605') #유니코드"
   ]
  }
 ],
 "metadata": {
  "kernelspec": {
   "display_name": "Python 3",
   "language": "python",
   "name": "python3"
  },
  "language_info": {
   "codemirror_mode": {
    "name": "ipython",
    "version": 3
   },
   "file_extension": ".py",
   "mimetype": "text/x-python",
   "name": "python",
   "nbconvert_exporter": "python",
   "pygments_lexer": "ipython3",
   "version": "3.12.7"
  }
 },
 "nbformat": 4,
 "nbformat_minor": 2
}
