{
 "cells": [
  {
   "cell_type": "markdown",
   "metadata": {},
   "source": [
    "chapter 3"
   ]
  },
  {
   "cell_type": "markdown",
   "metadata": {},
   "source": [
    "산술 연산자 우선순위\n",
    "\n",
    "1. 괄호가 제일 우선, 곱셈(나눗셈), 덧셈(뺄쌤) 순서로 진행\n",
    "\n",
    "2. (곱셈, 나눗셈), (덧셈, 뺄셈)같이 있으면 왼쪽에서 오른쪽 순으로 연산 진행\n",
    "\n",
    "3. 순서가 애매할 수 있으니 괄호를 잘 활용하기"
   ]
  },
  {
   "cell_type": "markdown",
   "metadata": {},
   "source": [
    "데이터 타입 변환 함수\n",
    "\n",
    "1. int(): 문자열 -> 정수형\n",
    "2. float(): 문자열 -> 실수형\n",
    "3. str(): 숫자 형태 (정수 또는 실수) -> 문자열"
   ]
  },
  {
   "cell_type": "markdown",
   "metadata": {},
   "source": [
    "대입연산자"
   ]
  },
  {
   "cell_type": "code",
   "execution_count": null,
   "metadata": {},
   "outputs": [
    {
     "name": "stdout",
     "output_type": "stream",
     "text": [
      "15\n",
      "10\n",
      "50\n",
      "10.0\n",
      "2.0\n",
      "2.0\n",
      "32.0\n"
     ]
    }
   ],
   "source": [
    "a = 10\n",
    "a += 5; print(a) # a = a + 5\n",
    "a -= 5; print(a) # a = a - 5\n",
    "a *= 5; print(a) # a = a * 5\n",
    "a /= 5; print(a) # a = a / 5\n",
    "a //= 5; print(a) # a = a // 5\n",
    "a %= 5; print(a) # a = a % 5\n",
    "a **= 5; print(a) # a = a ** 5"
   ]
  },
  {
   "cell_type": "markdown",
   "metadata": {},
   "source": [
    "동전 교환 프로그램을 만들어 보자!!\n",
    "\n",
    "1. 교환할 돈을 입력하는 단계\n",
    "\n",
    "2. 500원짜리, 100원짜리, 50원짜리, 10원짜리, 바꾸지 못한 잔돈 등으로 표시\n",
    "\n",
    "* 어떤 문제가 주어지면 쪼개서 생각하는 습관\n",
    "\n",
    "* 시뮬레이션 또는 가정을 해서 접근\n",
    "\n",
    "예) 1770원을 교환 해야한다고 한다면\n",
    "\n",
    "500원짜리가 3개로 바뀌어야 한다 -> 1770을 500으로 나누면 그 몫 3개 나온다!!\n",
    "\n",
    "1770 - 500*3 = 270\n",
    "\n",
    "100원짜리라면? 2개 70원이 남음\n",
    "\n",
    "50원짜리라면? 1개 20원이 남음\n",
    "\n",
    "10원짜리라면? 2개 나머지 금액이 없음"
   ]
  },
  {
   "cell_type": "code",
   "execution_count": null,
   "metadata": {},
   "outputs": [
    {
     "name": "stdout",
     "output_type": "stream",
     "text": [
      "500원짜리 ===> 3개\n",
      "나머지금액 270원\n",
      "100원짜리 ===> 2개\n",
      "나머지금액 70원\n",
      "50원짜리 ===> 1개\n",
      "나머지금액 20원\n",
      "10원짜리 ===> 2개\n",
      "나머지금액 0원\n"
     ]
    }
   ],
   "source": [
    "money = int(input(\"교환할 돈을 입력하세요\"))\n",
    "\n",
    "# 1770원을 가정하고 파이썬으로 이걸 계산해보자\n",
    "\n",
    "# 몫, 나머지 연산 -> python 언어로 어떻게 표현이 되나? 찾거나 수업내용에서 가져오기\n",
    "# //, % 각각 몫, 나머지 연산을 해준다\n",
    "# money = 1770\n",
    "\n",
    "money // 500 # 몫\n",
    "money % 500 # 나머지 연산\n",
    "\n",
    "print(\"500원짜리 ===> %d개\" % (money//500))\n",
    "money %= 500\n",
    "print(\"나머지금액 %d원\" % (money))\n",
    "print(\"100원짜리 ===> %d개\" % (money//100))\n",
    "money %= 100\n",
    "print(\"나머지금액 %d원\" % (money))\n",
    "print(\"50원짜리 ===> %d개\" % (money//50))\n",
    "money %= 50\n",
    "print(\"나머지금액 %d원\" % (money))\n",
    "print(\"10원짜리 ===> %d개\" % (money//10))\n",
    "money %= 10\n",
    "print(\"나머지금액 %d원\" % (money))"
   ]
  },
  {
   "cell_type": "markdown",
   "metadata": {},
   "source": [
    "관계 연산자\n",
    "\n",
    "* 관계연산자: 어떤 것이 크거나 작거나 같은지 비교하는 것"
   ]
  },
  {
   "cell_type": "code",
   "execution_count": null,
   "metadata": {},
   "outputs": [
    {
     "name": "stdout",
     "output_type": "stream",
     "text": [
      "False True False True False True\n"
     ]
    }
   ],
   "source": [
    "a, b = 100, 200 # a변수에 100, b변수에 200\n",
    "print(a == b, a != b, a > b, a < b, a >= b, a <= b)"
   ]
  },
  {
   "cell_type": "code",
   "execution_count": null,
   "metadata": {},
   "outputs": [],
   "source": [
    "print(a=b) #에러가 발생\n",
    "# ==, =은 다른 역할"
   ]
  },
  {
   "cell_type": "markdown",
   "metadata": {},
   "source": [
    "# 논리 연산자\n",
    "\n",
    "and: 둘 다 참이어야 참, 두 조건을 모두 만족 True 예) (a>100) and (a<200)\n",
    "\n",
    "or: 둘 중 하나가 참 -> 참, 두 조건을 하나만 만족 True 예) (a>100) or (a<200)\n",
    "\n",
    "not: 부정, 참이면 거짓, 거짓이면 참 예) not(a<100)"
   ]
  },
  {
   "cell_type": "code",
   "execution_count": 12,
   "metadata": {},
   "outputs": [
    {
     "name": "stdout",
     "output_type": "stream",
     "text": [
      "False True True\n"
     ]
    }
   ],
   "source": [
    "a = 99\n",
    "print((a > 100) and (a < 100), (a > 100) or (a < 200), not(a == 100))"
   ]
  }
 ],
 "metadata": {
  "kernelspec": {
   "display_name": "Python 3",
   "language": "python",
   "name": "python3"
  },
  "language_info": {
   "codemirror_mode": {
    "name": "ipython",
    "version": 3
   },
   "file_extension": ".py",
   "mimetype": "text/x-python",
   "name": "python",
   "nbconvert_exporter": "python",
   "pygments_lexer": "ipython3",
   "version": "3.12.7"
  }
 },
 "nbformat": 4,
 "nbformat_minor": 2
}
