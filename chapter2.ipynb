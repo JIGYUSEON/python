{
 "cells": [
  {
   "cell_type": "code",
   "execution_count": 1,
   "metadata": {},
   "outputs": [
    {
     "name": "stdout",
     "output_type": "stream",
     "text": [
      "Hello world!\n"
     ]
    }
   ],
   "source": [
    "print(\"Hello world!\")"
   ]
  },
  {
   "cell_type": "code",
   "execution_count": 4,
   "metadata": {},
   "outputs": [],
   "source": [
    "a = input(\"이름을 입력하세요\")"
   ]
  },
  {
   "cell_type": "markdown",
   "metadata": {},
   "source": [
    "## 변수의 선언과 사용\n",
    "\n",
    "* 파이썬은 자바, C++과 다르게 변수선언을 하지 않아도 사용 가능\n",
    "\n",
    "[자바] int a = 5; <- int형 데이터만 a 변수에 추가할 수 있음\n",
    "[Python]a = 5 <-실수, 문자열 등 다른 데이터 추가할 수 있음"
   ]
  },
  {
   "cell_type": "code",
   "execution_count": null,
   "metadata": {},
   "outputs": [],
   "source": [
    "boolVar = True # 불형 변수, True 또는 False\n",
    "intVar = 0 # 정수형 변수, -1, 0, 1, 2 ...\n",
    "floatVar = 0.0 # 실수형 변수, 소수가 있는 숫자\n",
    "strVar = \"\" # 문자열 변수. \"\". '' 따옴표로 되어있는 텍스트"
   ]
  },
  {
   "cell_type": "markdown",
   "metadata": {},
   "source": [
    "Type()함수: 변수의 데이터 형태를 파악하는 함수"
   ]
  },
  {
   "cell_type": "code",
   "execution_count": null,
   "metadata": {},
   "outputs": [],
   "source": [
    "print(type(boolVar))\n",
    "# 결과가 bool이라고 나옴\n",
    "print(type(intVar))\n",
    "print(type(floatVar))\n",
    "print(type(strVar))"
   ]
  },
  {
   "cell_type": "markdown",
   "metadata": {},
   "source": [
    "새로운 값을 담으면 기존 값은 없어지고 새로운 입력값으로 변경됨"
   ]
  },
  {
   "cell_type": "code",
   "execution_count": null,
   "metadata": {},
   "outputs": [],
   "source": [
    "boolVar = False\n",
    "# boolVar 에 False가 대입됨"
   ]
  },
  {
   "cell_type": "code",
   "execution_count": 12,
   "metadata": {},
   "outputs": [
    {
     "name": "stdout",
     "output_type": "stream",
     "text": [
      "200\n"
     ]
    }
   ],
   "source": [
    "var2 = 200\n",
    "var1 = var2\n",
    "print(var1)"
   ]
  },
  {
   "cell_type": "code",
   "execution_count": null,
   "metadata": {},
   "outputs": [],
   "source": [
    "var1 = var2 = var3 = var4 = 100\n",
    "\n",
    "var1 = True\n",
    "# 별 문제없이 100이 입력 var1에 True가 입력됨\n",
    "# 자바는 자료형 변수 선언과 같이 해야함\n",
    "# 쓰기를 불편하지만 메모리관리 장점\n",
    "# 파이썬은 자유롭게 여러 자료형을 대입할 수 있는데\n",
    "# 메모리 관리 차원에서는 조금 단점"
   ]
  }
 ],
 "metadata": {
  "kernelspec": {
   "display_name": "Python 3",
   "language": "python",
   "name": "python3"
  },
  "language_info": {
   "codemirror_mode": {
    "name": "ipython",
    "version": 3
   },
   "file_extension": ".py",
   "mimetype": "text/x-python",
   "name": "python",
   "nbconvert_exporter": "python",
   "pygments_lexer": "ipython3",
   "version": "3.12.7"
  }
 },
 "nbformat": 4,
 "nbformat_minor": 2
}
