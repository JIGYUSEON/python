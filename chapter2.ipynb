{
 "cells": [
  {
   "cell_type": "code",
   "execution_count": 1,
   "metadata": {},
   "outputs": [
    {
     "name": "stdout",
     "output_type": "stream",
     "text": [
      "Hello world!\n"
     ]
    }
   ],
   "source": [
    "print(\"Hello world!\")"
   ]
  },
  {
   "cell_type": "code",
   "execution_count": 4,
   "metadata": {},
   "outputs": [],
   "source": [
    "a = input(\"이름을 입력하세요\")"
   ]
  },
  {
   "cell_type": "markdown",
   "metadata": {},
   "source": [
    "## 변수의 선언과 사용\n",
    "\n",
    "* 파이썬은 자바, C++과 다르게 변수선언을 하지 않아도 사용 가능\n",
    "\n",
    "[자바] int a = 5; <- int형 데이터만 a 변수에 추가할 수 있음\n",
    "[Python]a = 5 <-실수, 문자열 등 다른 데이터 추가할 수 있음"
   ]
  },
  {
   "cell_type": "code",
   "execution_count": null,
   "metadata": {},
   "outputs": [],
   "source": [
    "boolVar = True # 불형 변수, True 또는 False\n",
    "intVar = 0 # 정수형 변수, -1, 0, 1, 2 ...\n",
    "floatVar = 0.0 # 실수형 변수, 소수가 있는 숫자\n",
    "strVar = \"\" # 문자열 변수. \"\". '' 따옴표로 되어있는 텍스트"
   ]
  },
  {
   "cell_type": "markdown",
   "metadata": {},
   "source": [
    "Type()함수: 변수의 데이터 형태를 파악하는 함수"
   ]
  },
  {
   "cell_type": "code",
   "execution_count": null,
   "metadata": {},
   "outputs": [],
   "source": [
    "print(type(boolVar))\n",
    "# 결과가 bool이라고 나옴\n",
    "print(type(intVar))\n",
    "print(type(floatVar))\n",
    "print(type(strVar))"
   ]
  },
  {
   "cell_type": "code",
   "execution_count": null,
   "metadata": {},
   "outputs": [],
   "source": [
    "boolVar = False\n",
    "# boolVar 에 False가 대입됨"
   ]
  },
  {
   "cell_type": "code",
   "execution_count": 12,
   "metadata": {},
   "outputs": [
    {
     "name": "stdout",
     "output_type": "stream",
     "text": [
      "200\n"
     ]
    }
   ],
   "source": [
    "var2 = 200\n",
    "var1 = var2\n",
    "print(var1)"
   ]
  },
  {
   "cell_type": "code",
   "execution_count": null,
   "metadata": {},
   "outputs": [],
   "source": [
    "var1 = var2 = var3 = var4 = 100\n",
    "\n",
    "var1 = True\n",
    "# 별 문제없이 100이 입력 var1에 True가 입력됨\n",
    "# 자바는 자료형 변수 선언과 같이 해야함\n",
    "# 쓰기를 불편하지만 메모리관리 장점\n",
    "# 파이썬은 자유롭게 여러 자료형을 대입할 수 있는데\n",
    "# 메모리 관리 차원에서는 조금 단점"
   ]
  },
  {
   "cell_type": "markdown",
   "metadata": {},
   "source": [
    "진수 변환"
   ]
  },
  {
   "cell_type": "markdown",
   "metadata": {},
   "source": [
    "bin(): 입력 숫자를 2진법으로 변환\n",
    "\n",
    "oct(): 입력 숫자를 8진법으로 변환\n",
    "\n",
    "hex(): 입력 숫자를 16진법으로 변환"
   ]
  },
  {
   "cell_type": "code",
   "execution_count": 19,
   "metadata": {},
   "outputs": [
    {
     "name": "stdout",
     "output_type": "stream",
     "text": [
      "0b1011 0b1001 0b10001\n",
      "0o13 0o3 0o21\n",
      "0xb 0x3 0x9\n"
     ]
    }
   ],
   "source": [
    "print(bin(11), bin(0o11), bin(0x11))\n",
    "print(oct(11), oct(0b11), oct(0x11))\n",
    "print(hex(11), hex(0b11), hex(0o11))"
   ]
  },
  {
   "cell_type": "code",
   "execution_count": 21,
   "metadata": {},
   "outputs": [
    {
     "name": "stdout",
     "output_type": "stream",
     "text": [
      "255 63 15\n"
     ]
    }
   ],
   "source": [
    "a = 0xFF\n",
    "b = 0o77\n",
    "c = 0b1111\n",
    "print(a,b,c)"
   ]
  },
  {
   "cell_type": "code",
   "execution_count": 24,
   "metadata": {},
   "outputs": [
    {
     "name": "stdout",
     "output_type": "stream",
     "text": [
      "314000.0\n",
      "11\n",
      "7\n",
      "18\n",
      "4.5\n",
      "81\n",
      "1\n",
      "4\n"
     ]
    }
   ],
   "source": [
    "b = 3.14e5 #3.14 * 10^(5)\n",
    "print(b)\n",
    "\n",
    "# 사칙연산, 제곱, 나머지연산자, 소수점을 버리는 연산자\n",
    "a = 9; b = 2\n",
    "print(a + b) #덧셈\n",
    "print(a - b) #뺄셈\n",
    "print(a * b) #곱셈\n",
    "print(a / b) #나눗셈\n",
    "print(a ** b) #a^(b)\n",
    "print(a % b) #나머지 연산\n",
    "print(a // b) #몫 연산: 나눈 후 소수점을 버리는 연산\n"
   ]
  },
  {
   "cell_type": "code",
   "execution_count": null,
   "metadata": {},
   "outputs": [
    {
     "name": "stdout",
     "output_type": "stream",
     "text": [
      "True False\n"
     ]
    }
   ],
   "source": [
    "# if문, for문에 대응이 될 예정\n",
    "a = (100 == 100) #==이 왼쪽, 오른쪽이 같나?\n",
    "b = (10 > 100)\n",
    "print(a, b)"
   ]
  }
 ],
 "metadata": {
  "kernelspec": {
   "display_name": "Python 3",
   "language": "python",
   "name": "python3"
  },
  "language_info": {
   "codemirror_mode": {
    "name": "ipython",
    "version": 3
   },
   "file_extension": ".py",
   "mimetype": "text/x-python",
   "name": "python",
   "nbconvert_exporter": "python",
   "pygments_lexer": "ipython3",
   "version": "3.12.7"
  }
 },
 "nbformat": 4,
 "nbformat_minor": 2
}
