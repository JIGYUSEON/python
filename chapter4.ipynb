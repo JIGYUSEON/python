{
 "cells": [
  {
   "cell_type": "markdown",
   "metadata": {},
   "source": [
    "조건문"
   ]
  },
  {
   "cell_type": "code",
   "execution_count": 10,
   "metadata": {},
   "outputs": [
    {
     "name": "stdout",
     "output_type": "stream",
     "text": [
      "100보다 작군요\n",
      "aaaa\n"
     ]
    }
   ],
   "source": [
    "a = 99\n",
    "if a < 100 :\n",
    "    print(\"100보다 작군요\")\n",
    "    print(\"aaaa\")"
   ]
  },
  {
   "cell_type": "code",
   "execution_count": 13,
   "metadata": {},
   "outputs": [],
   "source": [
    "a = 101\n",
    "if a < 100 :\n",
    "    print(\"100보다 작군요\")"
   ]
  },
  {
   "cell_type": "markdown",
   "metadata": {},
   "source": [
    "if else 문"
   ]
  },
  {
   "cell_type": "code",
   "execution_count": 14,
   "metadata": {},
   "outputs": [
    {
     "name": "stdout",
     "output_type": "stream",
     "text": [
      "100보다 크군요!\n"
     ]
    }
   ],
   "source": [
    "a = 200\n",
    "\n",
    "if a < 200:\n",
    "    print(\"100보다 작군요!\")\n",
    "else:\n",
    "    print(\"100보다 크군요!\")"
   ]
  },
  {
   "cell_type": "code",
   "execution_count": null,
   "metadata": {},
   "outputs": [],
   "source": [
    "number = int(input(\"정수를 입력하세요\"))\n",
    "\n",
    "if number%2 == 0:\n",
    "    print(\"짝수 입니다\")\n",
    "else:\n",
    "    print(\"홀수 입니다\")"
   ]
  },
  {
   "cell_type": "code",
   "execution_count": 22,
   "metadata": {},
   "outputs": [
    {
     "name": "stdout",
     "output_type": "stream",
     "text": [
      "50보다 크고 100보다 작군요\n"
     ]
    }
   ],
   "source": [
    "a = 75\n",
    "\n",
    "if a > 50:\n",
    "    if a< 100:\n",
    "        print(\"50보다 크고 100보다 작군요\")\n",
    "    else:\n",
    "        print(\"와~ 100보다 크군요\")\n",
    "else:\n",
    "    print(\"에고 50보다 작군요\")"
   ]
  },
  {
   "cell_type": "markdown",
   "metadata": {},
   "source": [
    "if elif else 문\n",
    "\n",
    "elif: else + if"
   ]
  },
  {
   "cell_type": "code",
   "execution_count": null,
   "metadata": {},
   "outputs": [],
   "source": [
    "score = int(input(\"점수를 입력하세요.\"))\n",
    "\n",
    "if score >= 90:\n",
    "    print(\"A\")\n",
    "elif score >= 80:\n",
    "    print(\"B\")\n",
    "elif score >= 70:\n",
    "    print(\"C\")\n",
    "elif score >= 60:\n",
    "    print(\"D\")\n",
    "else:\n",
    "    print(\"F\")\n",
    "print(\"학점입니다.\")"
   ]
  },
  {
   "cell_type": "code",
   "execution_count": null,
   "metadata": {},
   "outputs": [],
   "source": [
    "score = int(input(\"점수를 입력하세요.\"))\n",
    "\n",
    "if score >= 95:\n",
    "    print(\"A+\")\n",
    "elif score >= 90:\n",
    "    print(\"A0\")\n",
    "elif score >= 85:\n",
    "    print(\"B+\")\n",
    "elif score >= 80:\n",
    "    print(\"B0\")\n",
    "elif score >= 75:\n",
    "    print(\"C+\")\n",
    "elif score >= 70:\n",
    "    print(\"C0\")\n",
    "elif score >= 65:\n",
    "    print(\"D+\")\n",
    "elif score >= 60:\n",
    "    print(\"D0\")\n",
    "else:\n",
    "    print(\"F\")\n",
    "print(\"학점입니다.\")"
   ]
  },
  {
   "cell_type": "code",
   "execution_count": null,
   "metadata": {},
   "outputs": [],
   "source": [
    "age = int(input(\"나이를 입력하세요\"))\n",
    "\n",
    "if age<13:\n",
    "    print(\"어린이\")\n",
    "elif 13<= age< 20:\n",
    "    print(\"청소년\")\n",
    "elif 20<= age< 60:\n",
    "    print(\"성인\")\n",
    "else:\n",
    "    print(\"노년층\")"
   ]
  },
  {
   "cell_type": "markdown",
   "metadata": {},
   "source": [
    "# 삼항 연산자"
   ]
  },
  {
   "cell_type": "code",
   "execution_count": 58,
   "metadata": {},
   "outputs": [
    {
     "name": "stdout",
     "output_type": "stream",
     "text": [
      "B\n"
     ]
    }
   ],
   "source": [
    "score = 85\n",
    "grade = \"\"\n",
    "\n",
    "if score >= 90:\n",
    "    grade=\"A\"\n",
    "else:\n",
    "    grade=\"B\"\n",
    "\n",
    "print(grade)"
   ]
  },
  {
   "cell_type": "markdown",
   "metadata": {},
   "source": [
    "값1 if 조건 else 값2"
   ]
  },
  {
   "cell_type": "code",
   "execution_count": 59,
   "metadata": {},
   "outputs": [
    {
     "name": "stdout",
     "output_type": "stream",
     "text": [
      "B\n"
     ]
    }
   ],
   "source": [
    "score = 85\n",
    "grade = \"A\" if score>=90 else \"B\"\n",
    "print(grade)"
   ]
  },
  {
   "cell_type": "code",
   "execution_count": 60,
   "metadata": {},
   "outputs": [
    {
     "name": "stdout",
     "output_type": "stream",
     "text": [
      "B\n"
     ]
    }
   ],
   "source": [
    "print(\"A\" if score>=90 else \"B\")"
   ]
  },
  {
   "cell_type": "code",
   "execution_count": 61,
   "metadata": {},
   "outputs": [
    {
     "name": "stdout",
     "output_type": "stream",
     "text": [
      "['사과', '배', '딸기', '포도']\n"
     ]
    }
   ],
   "source": [
    "fruit = ['사과', '배', '딸기', '포도']\n",
    "print(fruit)"
   ]
  },
  {
   "cell_type": "code",
   "execution_count": null,
   "metadata": {},
   "outputs": [],
   "source": [
    "fruit.append('귤')\n",
    "print(fruit)\n",
    "\n",
    "if '딸기' in fruit:\n",
    "    print(\"딸기가 있네요!\")"
   ]
  },
  {
   "cell_type": "code",
   "execution_count": null,
   "metadata": {},
   "outputs": [
    {
     "name": "stdout",
     "output_type": "stream",
     "text": [
      "생성된 리스트 [4, 4, 7, 4, 6, 0, 0, 9, 6, 2]\n",
      "숫자 : 0\n",
      "숫자 : 1\n",
      "숫자 1는(은) 리스트에 없네요.\n",
      "숫자 : 2\n",
      "숫자 : 3\n",
      "숫자 3는(은) 리스트에 없네요.\n",
      "숫자 : 4\n",
      "숫자 : 5\n",
      "숫자 5는(은) 리스트에 없네요.\n",
      "숫자 : 6\n",
      "숫자 : 7\n",
      "숫자 : 8\n",
      "숫자 8는(은) 리스트에 없네요.\n",
      "숫자 : 9\n"
     ]
    }
   ],
   "source": [
    "import random # random 난수 발생 모듈(라이브러리)\n",
    "# 모듈 읽어오기, 모듈: 남들이 이미 작성해놓은 클래스, 함수 꾸러미\n",
    "\n",
    "numbers = []\n",
    "# 랜덤한 숫자를 저장하기 위한 빈 리스트를 생성\n",
    "for num in range(0, 10):\n",
    "    numbers.append(random.randrange(0,10))\n",
    "\n",
    "#for: 반복한다는 의미\n",
    "#생성된 number 리스트를 보여줌\n",
    "print(\"생성된 리스트\", numbers)\n",
    "\n",
    "#0에서 9까지의 숫자를 numbers에 있는지 확인하는 구문\n",
    "for num in range(0,10):\n",
    "    print(\"숫자 :\", num)\n",
    "    if num not in numbers :\n",
    "        print(\"숫자 %d는(은) 리스트에 없네요.\" %num)"
   ]
  },
  {
   "cell_type": "markdown",
   "metadata": {},
   "source": [
    "첫번째 숫자에서 두번째 숫자까지의 정수합을 구하는 프로그램\n",
    "\n",
    "예) 첫번째 숫자 1\n",
    "\n",
    "두번째 숫자 100\n",
    "\n",
    "1부터 100까지 정수합을 구하는 프로그램\n",
    "\n",
    "입력은 첫번째 숫자를 입력하시오, 두번째 숫자를 입력하시오\n",
    "\n",
    "for 반문형 이용"
   ]
  },
  {
   "cell_type": "code",
   "execution_count": null,
   "metadata": {},
   "outputs": [],
   "source": [
    "answer = 0\n",
    "\n",
    "num1 = int(input(\"*** 첫 번째 숫자를 입력하세요 : \"))\n",
    "num2 = int(input(\"*** 두 번째 숫자를 입력하세요 : \"))\n",
    "\n",
    "for i in range(num1, num2 + 1):\n",
    "    answer = answer + i\n",
    "print(\"%d + ... + %d는 %d입니다.\", (num1, num2, answer))"
   ]
  }
 ],
 "metadata": {
  "kernelspec": {
   "display_name": "Python 3",
   "language": "python",
   "name": "python3"
  },
  "language_info": {
   "codemirror_mode": {
    "name": "ipython",
    "version": 3
   },
   "file_extension": ".py",
   "mimetype": "text/x-python",
   "name": "python",
   "nbconvert_exporter": "python",
   "pygments_lexer": "ipython3",
   "version": "3.12.7"
  }
 },
 "nbformat": 4,
 "nbformat_minor": 2
}
