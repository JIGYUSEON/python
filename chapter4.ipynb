{
 "cells": [
  {
   "cell_type": "markdown",
   "metadata": {},
   "source": [
    "조건문"
   ]
  },
  {
   "cell_type": "code",
   "execution_count": 10,
   "metadata": {},
   "outputs": [
    {
     "name": "stdout",
     "output_type": "stream",
     "text": [
      "100보다 작군요\n",
      "aaaa\n"
     ]
    }
   ],
   "source": [
    "a = 99\n",
    "if a < 100 :\n",
    "    print(\"100보다 작군요\")\n",
    "    print(\"aaaa\")"
   ]
  },
  {
   "cell_type": "code",
   "execution_count": 13,
   "metadata": {},
   "outputs": [],
   "source": [
    "a = 101\n",
    "if a < 100 :\n",
    "    print(\"100보다 작군요\")"
   ]
  },
  {
   "cell_type": "markdown",
   "metadata": {},
   "source": [
    "if else 문"
   ]
  },
  {
   "cell_type": "code",
   "execution_count": 14,
   "metadata": {},
   "outputs": [
    {
     "name": "stdout",
     "output_type": "stream",
     "text": [
      "100보다 크군요!\n"
     ]
    }
   ],
   "source": [
    "a = 200\n",
    "\n",
    "if a < 200:\n",
    "    print(\"100보다 작군요!\")\n",
    "else:\n",
    "    print(\"100보다 크군요!\")"
   ]
  },
  {
   "cell_type": "code",
   "execution_count": null,
   "metadata": {},
   "outputs": [],
   "source": [
    "number = int(input(\"정수를 입력하세요\"))\n",
    "\n",
    "if number%2 == 0:\n",
    "    print(\"짝수 입니다\")\n",
    "else:\n",
    "    print(\"홀수 입니다\")"
   ]
  },
  {
   "cell_type": "code",
   "execution_count": 22,
   "metadata": {},
   "outputs": [
    {
     "name": "stdout",
     "output_type": "stream",
     "text": [
      "50보다 크고 100보다 작군요\n"
     ]
    }
   ],
   "source": [
    "a = 75\n",
    "\n",
    "if a > 50:\n",
    "    if a< 100:\n",
    "        print(\"50보다 크고 100보다 작군요\")\n",
    "    else:\n",
    "        print(\"와~ 100보다 크군요\")\n",
    "else:\n",
    "    print(\"에고 50보다 작군요\")"
   ]
  }
 ],
 "metadata": {
  "kernelspec": {
   "display_name": "Python 3",
   "language": "python",
   "name": "python3"
  },
  "language_info": {
   "codemirror_mode": {
    "name": "ipython",
    "version": 3
   },
   "file_extension": ".py",
   "mimetype": "text/x-python",
   "name": "python",
   "nbconvert_exporter": "python",
   "pygments_lexer": "ipython3",
   "version": "3.12.7"
  }
 },
 "nbformat": 4,
 "nbformat_minor": 2
}
